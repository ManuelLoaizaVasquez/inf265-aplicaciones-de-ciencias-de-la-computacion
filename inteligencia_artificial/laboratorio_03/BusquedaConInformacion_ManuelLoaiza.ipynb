{
 "cells": [
  {
   "cell_type": "markdown",
   "metadata": {
    "colab_type": "text",
    "id": "wFGHDge1q4gz"
   },
   "source": [
    "# APLICACIONES EN CIENCIAS DE COMPUTACION"
   ]
  },
  {
   "cell_type": "markdown",
   "metadata": {
    "colab_type": "text",
    "id": "Wk2dv1Rzq4g2"
   },
   "source": [
    "## Laboratorio 3:  Busqueda con Informacion (Busqueda codiciosa, A* y heurísticas)\n",
    "\n",
    "Indicaciones previas:\n",
    "- Se recomienda utilizar Jupyter Notebook para la resolución del presente cuadernillo.\n",
    "- Las respuestas deben tener un buen fundamento teórico, se realizarán descuentos en el puntaje a respuestas que no contesten a lo solicitado\n",
    "- Cualquier indicio de plagio resultará en la anulación de la prueba.\n",
    "\n",
    "La tarea de este laboratorio consiste en comparar métodos de busqueda a ciegas y busqueda con información A* para buscar caminos en un laberinto.<br>La clase MazeSearchProblem necesita ser completada (metodos actions y result).<br>Deberá implementarse 4 heurísticas para A* (euclidean_dist:distancia en linea recta, manhattan_dist:distancia Manhattan, chebyshev_dist:distancia Chebyshev, lab03_dist: distancia implementada para el laboratorio 3).<br>Después de implementar lo anteriormente mencionado, realice las pruebas con el laberinto the_maze.txt.<br>Al final de este notebook se encuentran las preguntas que serán evaluadas en este laboratorio. \n",
    "\n",
    "**Usted deberá completar el código en las celdas respectivas**\n"
   ]
  },
  {
   "cell_type": "markdown",
   "metadata": {
    "colab_type": "text",
    "id": "saqzg67Tq4g3"
   },
   "source": [
    "### Clase <b>Maze</b>\n",
    "La clase Maze es representada por una matriz (grid) de espacios, los cuales pueden estar libres o bloqueados. Cada celda del grid puede tener uno de los siguientes carateres:\n",
    "\n",
    "    '#': Indica una celda con obstaculo  (impasable) \n",
    "    '~': Indica una celda con agua (pasable, con costo 6)\n",
    "    '=': Indica una celda con arena (pasable, con costo 3)\n",
    "    ' ': Indica una celda vacia (pasable con costo 1)\n",
    "    'S': Indica la celda de inicio (Start)\n",
    "    'E': Indica la celda de salida ( End )"
   ]
  },
  {
   "cell_type": "code",
   "execution_count": 26,
   "metadata": {
    "colab": {},
    "colab_type": "code",
    "id": "hG2ZKq4Jq4g5"
   },
   "outputs": [],
   "source": [
    "class Maze:\n",
    "\n",
    "    def __init__(self, grid):\n",
    "        \"\"\" Construye el maze a partir del grid ingresado\n",
    "            grid: debe ser una matriz (lista de listas), ejemplo [['#','S',' '],['#',' ','E']]  \"\"\"\n",
    "        self.grid = grid\n",
    "        self.numRows = len(grid)\n",
    "        self.numCols = len(grid[0])\n",
    "        for i in range(self.numRows):\n",
    "            for j in range(self.numCols):\n",
    "                if len(grid[i]) != self.numCols:\n",
    "                    raise \"Grid no es Rectangular\"\n",
    "                if grid[i][j] == 'S':\n",
    "                    self.startCell = (i,j)\n",
    "                if grid[i][j] == 'E':\n",
    "                    self.exitCell= (i,j)\n",
    "        if self.exitCell == None:\n",
    "            raise \"No hay celda de Inicio\"\n",
    "        if self.startCell == None:\n",
    "            raise \"No hay celda de salida\"\n",
    "   \n",
    "    def isPassable(self, row, col):\n",
    "        \"\"\" Retorna true si la celda (row,col) es pasable  (' ' o '~' o '=') \"\"\"\n",
    "        return self.isWater(row, col) or isSAnd(row,col) or self.isClear(row, col)    \n",
    "    \n",
    "    def isBlocked(self, row,col):\n",
    "        \"\"\" Retorna true si la celda (row,col) tiene obstaculo ('#') \"\"\"\n",
    "        return self.grid[row][col] == '#'   \n",
    "    \n",
    "    def isClear(self,row,col):\n",
    "        return self.grid[row][col] == ' '\n",
    "    \n",
    "    def isSand(self, row,col):\n",
    "        \"\"\" Retorna true si la celda (row,col) tiene obstaculo ('#') \"\"\"\n",
    "        return self.grid[row][col] == '='  \n",
    "    \n",
    "    def isWater(self, row, col):\n",
    "        return self.grid[row][col] == '~' \n",
    "        \n",
    "    def getNumRows(self):\n",
    "        \"\"\" Retorna el numero de filas en el maze \"\"\"\n",
    "        return self.numRows\n",
    "  \n",
    "    def getNumCols(self):\n",
    "        \"\"\" Retorna el numero de columnas en el maze \"\"\"\n",
    "        return self.numCols  \n",
    "   \n",
    "    def getStartCell(self):\n",
    "        \"\"\" Retorna la posicion (row,col) de la celda de inicio \"\"\"\n",
    "        return self.startCell\n",
    "  \n",
    "    def getExitCell(self):\n",
    "        \"\"\" Retorna la posicion (row,col) de la celda de salida \"\"\"\n",
    "        return self.exitCell\n",
    "\n",
    "    def __getAsciiString(self):\n",
    "        \"\"\" Retorna el string de vizualizacion del maze \"\"\"\n",
    "        lines = []\n",
    "        headerLine = ' ' + ('-' * (self.numCols)) + ' '\n",
    "        lines.append(headerLine)\n",
    "        for row in self.grid:\n",
    "            rowLine = '|' + ''.join(row) + '|'\n",
    "            lines.append(rowLine)\n",
    "        lines.append(headerLine)\n",
    "        return '\\n'.join(lines)\n",
    "\n",
    "    def __str__(self):\n",
    "        return self.__getAsciiString()"
   ]
  },
  {
   "cell_type": "markdown",
   "metadata": {
    "colab_type": "text",
    "id": "veG_ovgSq4g_"
   },
   "source": [
    "### Funcion para cargar una laberinto de archivo de disco"
   ]
  },
  {
   "cell_type": "code",
   "execution_count": 27,
   "metadata": {
    "colab": {},
    "colab_type": "code",
    "id": "kc9MTh_sq4hB"
   },
   "outputs": [],
   "source": [
    "def readMazeFromFile(file):\n",
    "    \"\"\" Lee un archivo que contiene un laberinto y retorna una instancia de Maze con dicho laberinto\"\"\"\n",
    "    fin = open(file)\n",
    "    lines = fin.read().splitlines()\n",
    "    grid = []\n",
    "    for line in lines: \n",
    "        grid.append(list(line))\n",
    "    return Maze(grid)"
   ]
  },
  {
   "cell_type": "markdown",
   "metadata": {
    "colab_type": "text",
    "id": "fIocqccGq4hH"
   },
   "source": [
    "### Clase <b>SearchProblem</b>\n",
    "\n",
    "Esta es una clase abstracta para definir problemas de busqueda. Se debe hacer subclases que implementen los metodos de las acciones, resultados, test de objetivo y el costo de camino. Entonces se puede instanciar las subclases y resolverlos con varias funciones de busqueda."
   ]
  },
  {
   "cell_type": "code",
   "execution_count": 28,
   "metadata": {
    "colab": {},
    "colab_type": "code",
    "id": "Ix26qwRnq4hK"
   },
   "outputs": [],
   "source": [
    "class SearchProblem(object):\n",
    "    def __init__(self, initial, goal=None):\n",
    "        \"\"\"Este constructor especifica el estado inicial y posiblemente el estado(s) objetivo(s),\n",
    "        La subclase puede añadir mas argumentos.\"\"\"\n",
    "        self.initial = initial\n",
    "        self.goal = goal\n",
    "\n",
    "    def actions(self, state):\n",
    "        \"\"\"Retorna las acciones que pueden ser ejecutadas en el estado dado.\n",
    "        El resultado es tipicamente una lista.\"\"\"\n",
    "        raise NotImplementedError\n",
    "\n",
    "    def result(self, state, action):\n",
    "        \"\"\"Retorna el estado que resulta de ejecutar la accion dada en el estado state.\n",
    "        La accion debe ser alguna de self.actions(state).\"\"\"\n",
    "        raise NotImplementedError\n",
    "\n",
    "    def goal_test(self, state):\n",
    "        \"\"\"Retorna True si el estado pasado satisface el objetivo.\"\"\"\n",
    "        raise NotImplementedError\n",
    "\n",
    "    def path_cost(self, c, state1, action, state2):\n",
    "        \"\"\"Retorna el costo del camino de state2 viniendo de state1 con \n",
    "        la accion action, asumiendo un costo c para llegar hasta state1. \n",
    "        El metodo por defecto cuesta 1 para cada paso en el camino.\"\"\"\n",
    "        return c + 1"
   ]
  },
  {
   "cell_type": "markdown",
   "metadata": {
    "colab_type": "text",
    "id": "JcMTkTJ2q4hQ"
   },
   "source": [
    "###  <b> Clase MazeSearchProblem </b>  \n",
    "Esta es una subclase de SearchProblem que implementa concretamente el problema de busqueda en laberinto. El constructor recibe el laberinto en un objeto maze. Cada estado es codificado como una tupla (row,col) representando la posicion de una celda del grid. El estado inicial es la celda de inicio y el único estado objetivo es la celda de salida.\n",
    "Se necesita completar Actions (acciones legales para un estado dado) y result (que hacen las acciones)."
   ]
  },
  {
   "cell_type": "code",
   "execution_count": 29,
   "metadata": {
    "colab": {},
    "colab_type": "code",
    "id": "zHnslRtFq4hR"
   },
   "outputs": [],
   "source": [
    "class MazeSearchProblem(SearchProblem):\n",
    "    def __init__(self, maze):\n",
    "        \"\"\"El constructor recibe el maze\"\"\"\n",
    "        self.maze = maze\n",
    "        self.initial = maze.getStartCell()\n",
    "        self.goal = maze.getExitCell()\n",
    "        self.numNodesExpanded = 0        \n",
    "        self.expandedNodeSet = {}   \n",
    "        \n",
    "    def __isValidState(self,state):\n",
    "        \"\"\" Retorna true si el estado dado corresponde a una celda no bloqueada valida \"\"\"\n",
    "        row,col = state\n",
    "        if row < 0 or row >= self.maze.getNumRows():\n",
    "            return False\n",
    "        if col < 0 or col >= self.maze.getNumCols():\n",
    "            return False\n",
    "        return not self.maze.isBlocked(row,col)        \n",
    "\n",
    "    def actions(self, state):\n",
    "        \"\"\"Retorna las acciones legales desde la celda actual \"\"\"\n",
    "        row,col = state\n",
    "        acciones = []\n",
    "        if self.__isValidState((row-1, col)):\n",
    "            acciones.append('N')\n",
    "        if self.__isValidState((row+1, col)):\n",
    "            acciones.append('S')\n",
    "        if self.__isValidState((row, col-1)):\n",
    "            acciones.append('W')\n",
    "        if self.__isValidState((row, col+1)):\n",
    "            acciones.append('E')\n",
    "        return acciones\n",
    "    \n",
    "    def result(self, state, action):\n",
    "        \"\"\"Retorna el estado que resulta de ejecutar la accion dada desde la celda actual.\n",
    "        La accion debe ser alguna de self.actions(state)\"\"\"  \n",
    "        row,col = state\n",
    "        newState = ()\n",
    "        if action == 'N':\n",
    "            newState = (row-1, col)\n",
    "        elif action == 'S':\n",
    "            newState = (row+1, col)\n",
    "        elif action == 'W':\n",
    "            newState = (row, col-1)\n",
    "        elif action == 'E':\n",
    "            newState = (row, col+1)\n",
    "        return newState\n",
    "    \n",
    "        \n",
    "    def goal_test(self, state):\n",
    "        \"\"\"Retorna True si state es self.goal\"\"\"\n",
    "        return (self.goal == state) \n",
    "\n",
    "    def path_cost(self, c, state1, action, state2):\n",
    "        \"\"\"Retorna el costo del camino de state2 viniendo de state1 con la accion action \n",
    "        El costo del camino para llegar a state1 es c. El costo de la accion sale de self.maze \"\"\"\n",
    "        row, col = state2\n",
    "        \n",
    "        if self.maze.isClear(row, col):\n",
    "            actionCost = 1\n",
    "        elif self.maze.isWater(row, col):    \n",
    "            actionCost = 6\n",
    "        elif self.maze.isSand(row, col):    \n",
    "            actionCost =  3\n",
    "        elif state2 == self.maze.getStartCell() or state2 == self.maze.getExitCell():\n",
    "            actionCost = 1\n",
    "        else:\n",
    "            raise \"El costo de una celda bloqueada no esta definido\" \n",
    "        return c + actionCost\n"
   ]
  },
  {
   "cell_type": "markdown",
   "metadata": {
    "colab_type": "text",
    "id": "iRkaAWxNq4hU"
   },
   "source": [
    "### Clase <b>Node</b>\n",
    "\n",
    "Estructura de datos para almacenar la información de un nodo en un <b>arbol de busqueda</b>. Contiene información del nodo padre y el estado que representa el nodo. Tambien incluye la acción que nos llevo al presente nodo y el costo total del camino desde el nodo raíz hasta este nodo."
   ]
  },
  {
   "cell_type": "code",
   "execution_count": 30,
   "metadata": {
    "colab": {},
    "colab_type": "code",
    "id": "u4iDAiKtq4hV"
   },
   "outputs": [],
   "source": [
    "class Node:\n",
    "    def __init__(self, state, parent=None, action=None, path_cost=0):\n",
    "        \"Crea un nodo de arbol de busqueda, derivado del nodo parent y accion action\"\n",
    "        self.state = state\n",
    "        self.parent = parent\n",
    "        self.action = action\n",
    "        self.path_cost = path_cost\n",
    "        self.depth = 0\n",
    "        if parent:\n",
    "            self.depth = parent.depth + 1\n",
    "\n",
    "    def expand(self, problem):\n",
    "        \"Devuelve los nodos alcanzables en un paso a partir de este nodo.\"\n",
    "        return [self.child_node(problem, action)\n",
    "                for action in problem.actions(self.state)]\n",
    "\n",
    "    def child_node(self, problem, action):\n",
    "        next = problem.result(self.state, action)\n",
    "        return Node(next, self, action,\n",
    "                    problem.path_cost(self.path_cost, self.state, action, next))\n",
    "\n",
    "    def solution(self):\n",
    "        \"Retorna la secuencia de acciones para ir de la raiz a este nodo.\"\n",
    "        return [node.action for node in self.path()[1:]]\n",
    "\n",
    "    def path(self):\n",
    "        \"Retorna una lista de nodos formando un camino de la raiz a este nodo.\"\n",
    "        node, path_back = self, []\n",
    "        while node:\n",
    "            path_back.append(node)\n",
    "            node = node.parent\n",
    "        return list(reversed(path_back))\n",
    "    \n",
    "    def __lt__(self, node):\n",
    "        return self.state < node.state\n",
    "    \n",
    "    def __eq__(self, other): \n",
    "        \"Este metodo se ejecuta cuando se compara nodos. Devuelve True cuando los estados son iguales\"\n",
    "        return isinstance(other, Node) and self.state == other.state\n",
    "    \n",
    "    def __repr__(self):\n",
    "        return \"<Node {}>\".format(self.state)\n",
    "    \n",
    "    def __hash__(self):\n",
    "        return hash(self.state)"
   ]
  },
  {
   "cell_type": "markdown",
   "metadata": {
    "colab_type": "text",
    "id": "-z1VHl3Pq4hY"
   },
   "source": [
    "### <b> Frontera tipo cola FIFO (first-in first out) para BFS</b> "
   ]
  },
  {
   "cell_type": "code",
   "execution_count": 31,
   "metadata": {
    "colab": {},
    "colab_type": "code",
    "id": "YANBIXmXq4hZ"
   },
   "outputs": [],
   "source": [
    "from collections import deque\n",
    "\n",
    "class FIFOQueue(deque):\n",
    "    \"\"\"Una cola First-In-First-Out\"\"\"\n",
    "    def pop(self):\n",
    "        return self.popleft()"
   ]
  },
  {
   "cell_type": "markdown",
   "metadata": {
    "colab_type": "text",
    "id": "3X71Ma4cq4hd"
   },
   "source": [
    "### <b> Frontera tipo cola de prioridad ordenada por una funcion de costo (para best_first_graph_search y A*)</b> "
   ]
  },
  {
   "cell_type": "code",
   "execution_count": 32,
   "metadata": {
    "colab": {},
    "colab_type": "code",
    "id": "CKRFAmUEq4hf"
   },
   "outputs": [],
   "source": [
    "import heapq\n",
    "class FrontierPQ:\n",
    "    \"Una Frontera ordenada por una funcion de costo (Priority Queue)\"\n",
    "    \n",
    "    def __init__(self, initial, costfn=lambda node: node.path_cost):\n",
    "        \"Inicializa la Frontera con un nodo inicial y una funcion de costo especificada (por defecto es el costo de camino).\"\n",
    "        self.heap   = []\n",
    "        self.states = {}\n",
    "        self.costfn = costfn\n",
    "        self.add(initial)\n",
    "    \n",
    "    def add(self, node):\n",
    "        \"Agrega un nodo a la frontera.\"\n",
    "        cost = self.costfn(node)\n",
    "        heapq.heappush(self.heap, (cost, node))\n",
    "        self.states[node.state] = node\n",
    "        \n",
    "    def pop(self):\n",
    "        \"Remueve y retorna el nodo con minimo costo.\"\n",
    "        (cost, node) = heapq.heappop(self.heap)\n",
    "        self.states.pop(node.state, None) # remove state\n",
    "        return node\n",
    "    \n",
    "    def replace(self, node):\n",
    "        \"node reemplaza al nodo de la Fontera que tiene el mismo estado que node.\"\n",
    "        if node.state not in self:\n",
    "            raise ValueError('{} no tiene nada que reemplazar'.format(node.state))\n",
    "        for (i, (cost, old_node)) in enumerate(self.heap):\n",
    "            if old_node.state == node.state:\n",
    "                self.heap[i] = (self.costfn(node), node)\n",
    "                heapq._siftdown(self.heap, 0, i)\n",
    "                return\n",
    "\n",
    "    def __contains__(self, state): return state in self.states\n",
    "    \n",
    "    def __len__(self): return len(self.heap)"
   ]
  },
  {
   "cell_type": "markdown",
   "metadata": {
    "colab_type": "text",
    "id": "aJNeW471q4hi"
   },
   "source": [
    "### <b>Algoritmo general de búsqueda con memoria de nodos expandidos (Graph Search)</b>\n",
    "\n",
    "Algoritmo de general de busqueda ciega con memoria de estados visitados. El argumento frontier debe ser una cola vacia. Si la frontera es tipo FIFO hace busqueda en amplitud (BFS), si la frontera es una pila hará busqueda en profundidad (DFS)"
   ]
  },
  {
   "cell_type": "code",
   "execution_count": 33,
   "metadata": {
    "colab": {},
    "colab_type": "code",
    "id": "1O8dyg_zq4hk"
   },
   "outputs": [],
   "source": [
    "def graph_search(problem, frontier):\n",
    "    frontier.append(Node(problem.initial))\n",
    "    explored = set()     # memoria de estados visitados\n",
    "    visited_nodes = []   # almacena nodos visitados durante la busqueda\n",
    "    while frontier:\n",
    "        node = frontier.pop()\n",
    "        visited_nodes.append(node)\n",
    "        if problem.goal_test(node.state):\n",
    "            return node, visited_nodes\n",
    "        explored.add(node.state)\n",
    "        \n",
    "        frontier.extend(child for child in node.expand(problem)\n",
    "                        if child.state not in explored and\n",
    "                        child not in frontier)\n",
    "    return None"
   ]
  },
  {
   "cell_type": "markdown",
   "metadata": {
    "colab_type": "text",
    "id": "dHsTKHrwq4hr"
   },
   "source": [
    "### <b> Algoritmo Best-First-Graph-Search </b> \n",
    "Algoritmo general de busqueda con información. La frontera es una cola de prioridad ordenada por la funcion de evaluacion f "
   ]
  },
  {
   "cell_type": "code",
   "execution_count": 34,
   "metadata": {
    "colab": {},
    "colab_type": "code",
    "id": "cDMuSarYq4hs"
   },
   "outputs": [],
   "source": [
    "def best_first_graph_search(problem, f):\n",
    "    \"\"\"Busca el objetivo expandiendo el nodo de la frontera con el menor valor de la funcion f. Memoriza estados visitados\n",
    "    Antes de llamar a este algoritmo hay que especificar La funcion f(node). Si f es node.depth tenemos Busqueda en Amplitud; \n",
    "    si f es node.path_cost tenemos Busqueda  de Costo Uniforme. Si f es una heurística tenemos Busqueda Voraz;\n",
    "    Si f es node.path_cost + heuristica(node) tenemos A* \"\"\"\n",
    "\n",
    "    frontier = FrontierPQ( Node(problem.initial), f )  # frontera tipo cola de prioridad ordenada por f\n",
    "    explored = set()     # memoria de estados visitados\n",
    "    visited_nodes = []   # almacena nodos visitados durante la busqueda\n",
    "    while frontier:\n",
    "        node = frontier.pop()\n",
    "        visited_nodes.append(node)        \n",
    "        if problem.goal_test(node.state):\n",
    "            return node, visited_nodes\n",
    "        explored.add(node.state)\n",
    "        for action in problem.actions(node.state):\n",
    "            child = node.child_node(problem, action)\n",
    "            if child.state not in explored and child.state not in frontier:\n",
    "                frontier.add(child)\n",
    "            elif child.state in frontier:\n",
    "                incumbent = frontier.states[child.state] \n",
    "                if f(child) < f(incumbent):\n",
    "                    frontier.replace(child)"
   ]
  },
  {
   "cell_type": "markdown",
   "metadata": {
    "colab_type": "text",
    "id": "kZBF7yBsq4hw"
   },
   "source": [
    "### <b> Algoritmo A* </b> \n",
    "A* es un caso especial de best_first_graph_search con f = path_cost + heuristic"
   ]
  },
  {
   "cell_type": "code",
   "execution_count": 35,
   "metadata": {
    "colab": {},
    "colab_type": "code",
    "id": "H_zckGu3q4hz"
   },
   "outputs": [],
   "source": [
    "def astar_search(problem, heuristic):\n",
    "    f = lambda node: node.path_cost + heuristic(node, problem)\n",
    "    return best_first_graph_search(problem, f)\n",
    "\n",
    "def nullheuristic(node, problem):   # heurística nula (A* se convierte en busqueda de costo uniforme)\n",
    "    return 0"
   ]
  },
  {
   "cell_type": "markdown",
   "metadata": {
    "colab_type": "text",
    "id": "E7TdaAGRq4h2"
   },
   "source": [
    "### <b> Heurísticas para A* </b> \n",
    "Se debe implementar las heurísticas abajo para A* "
   ]
  },
  {
   "cell_type": "code",
   "execution_count": 36,
   "metadata": {
    "colab": {},
    "colab_type": "code",
    "id": "XSBXkiPLq4h3"
   },
   "outputs": [],
   "source": [
    "import math\n",
    "\n",
    "def euclidean_dist(node, problem):\n",
    "    \"Distancia en linea recta desde la celda de node hasta la celda Objetivo (problem.goal)\"\n",
    "    (sx , sy) = node.state     #estado actual (posicion de fila y columna)\n",
    "    (gx , gy) = problem.goal   #estado objetivo (fila y columna)\n",
    "    dx = abs(sx - gx)\n",
    "    dy = abs(sy - gy)\n",
    "    square = dx * dx + dy * dy\n",
    "    return math.sqrt(square)\n",
    "    \n",
    "     \n",
    "def manhattan_dist(node, problem):\n",
    "    \"Distancia Manhattan (o city block) desde la celda de node hasta la celda Objetivo (problem.goal)\"\n",
    "    (sx , sy) = node.state     #estado actual (posicion de fila y columna)\n",
    "    (gx , gy) = problem.goal   #estado objetivo (fila y columna)\n",
    "    dx = abs(sx - gx)\n",
    "    dy = abs(sy - gy)\n",
    "    return dx + dy\n",
    "    \n",
    "    \n",
    "def chebyshev_dist(node, problem):\n",
    "    \"Distancia de chebyshev (https://chris3606.github.io/GoRogue/articles/grid_components/measuring-distance.html#chebyshev-distance) desde la celda de node hasta la celda Objetivo (problem.goal)\"\n",
    "    (sx , sy) = node.state     #estado actual (posicion de fila y columna)\n",
    "    (gx , gy) = problem.goal   #estado objetivo (fila y columna)\n",
    "    dx = abs(sx - gx)\n",
    "    dy = abs(sy - gy)\n",
    "    return max(dx, dy)\n",
    "\n",
    "    \n",
    "def lab03_dist(node, problem):\n",
    "    \"Es el valor máximo de evaluar la distancia Euclidiana, Manhattan y Chebyshev\"\n",
    "    ## COMPLETAR\n",
    "    return max(euclidean_dist(node, problem), manhattan_dist(node, problem), chebyshev_dist(node, problem))\n",
    "  \n",
    "    "
   ]
  },
  {
   "cell_type": "markdown",
   "metadata": {
    "colab_type": "text",
    "id": "8qRUfV3-q4h6"
   },
   "source": [
    "### <b> Función para mostrar los resultados </b> "
   ]
  },
  {
   "cell_type": "code",
   "execution_count": 37,
   "metadata": {
    "colab": {},
    "colab_type": "code",
    "id": "7ep8bOabq4h7"
   },
   "outputs": [],
   "source": [
    "def displayResults(maze, visitedNodes, solutionNodes):\n",
    "    \"\"\" Muestra los resultados de busqueda en el maze.   \"\"\"\n",
    "    grid_copy = []\n",
    "    for row in maze.grid:\n",
    "        grid_copy.append([x for x in row]) \n",
    "    for node in visitedNodes:\n",
    "        row,col = node.state\n",
    "        ch = maze.grid[row][col]\n",
    "        if ch != 'S' and ch != 'E': grid_copy[row][col] = 'o' \n",
    "    for node in solutionNodes:  \n",
    "        row,col = node.state\n",
    "        ch = maze.grid[row][col]\n",
    "        if ch != 'S' and ch != 'E': grid_copy[row][col] = 'x'    \n",
    "    maze_copy = Maze(grid_copy)\n",
    "    print (maze_copy)\n",
    "    print (\"x - celdas en la solucion\")\n",
    "    print (\"o - celdas visitadas durante la busqueda\")\n",
    "    print (\"-------------------------------\")"
   ]
  },
  {
   "cell_type": "markdown",
   "metadata": {
    "colab_type": "text",
    "id": "xhQdPpzSq4h-"
   },
   "source": [
    "## <b> Experimentación con los algoritmos de Busqueda</b> \n"
   ]
  },
  {
   "cell_type": "code",
   "execution_count": 38,
   "metadata": {
    "colab": {},
    "colab_type": "code",
    "id": "O2aMuaFCq4h-"
   },
   "outputs": [
    {
     "name": "stdout",
     "output_type": "stream",
     "text": [
      " --------------------------- \n",
      "|#################~~~~~~~~~~|\n",
      "|#################    =~   #|\n",
      "|~~  S~~~~    ==   =~==~   #|\n",
      "| ~~~~~ ~~~  ====  ==~=~~  #|\n",
      "| ~   ===~~   #==   =~=~~  #|\n",
      "|~~   ===~~  ###    =~     #|\n",
      "|~~~  ===~~  ##   ###~     #|\n",
      "|~=~    ~~        ## ~   ###|\n",
      "| =~   ~  ##  == =~ =~   ###|\n",
      "|~~    ==###  == =~      ###|\n",
      "|##########   ==        ~###|\n",
      "|~~~~~~~~         ~~~~##~   |\n",
      "| ### # # ### ### ====##=   |\n",
      "| # # # # #   # #   ==~~~=  |\n",
      "| ### # # #   ###   =~~~==  |\n",
      "| #   # # #   #     =##~E   |\n",
      "| #   ### ### #     =##     |\n",
      "|~~~~~~~~~~~~~~~~~~~~~~~~~~~|\n",
      " --------------------------- \n"
     ]
    }
   ],
   "source": [
    "\"\"\" Carga un laberinto de archivo en disco e instancia el problema de busqueda.   \"\"\"\n",
    "maze = readMazeFromFile('maze3.txt') \n",
    "p = MazeSearchProblem(maze)\n",
    "print(maze)"
   ]
  },
  {
   "cell_type": "markdown",
   "metadata": {
    "colab_type": "text",
    "id": "Lj1TWlnHq4iA"
   },
   "source": [
    "### Búsqueda en amplitud (BFS)"
   ]
  },
  {
   "cell_type": "code",
   "execution_count": 39,
   "metadata": {
    "colab": {},
    "colab_type": "code",
    "id": "3YfrEB4eq4iB",
    "scrolled": true
   },
   "outputs": [
    {
     "name": "stdout",
     "output_type": "stream",
     "text": [
      "Solucion BFS: ['S', 'S', 'S', 'S', 'S', 'E', 'E', 'E', 'E', 'E', 'E', 'E', 'S', 'S', 'S', 'S', 'E', 'E', 'E', 'E', 'E', 'S', 'S', 'S', 'E', 'E', 'E', 'E', 'E', 'E', 'S', 'E']. Nodos visitados=339. Costo Solucion = 69\n",
      " --------------------------- \n",
      "|#################oooooooooo|\n",
      "|#################ooooooooo#|\n",
      "|ooooSooooooooooooooooooooo#|\n",
      "|ooooxooooooooooooooooooooo#|\n",
      "|ooooxoooooooo#oooooooooooo#|\n",
      "|ooooxooooooo###ooooooooooo#|\n",
      "|ooooxooooooo##ooo###oooooo#|\n",
      "|ooooxxxxxxxxooooo##ooooo###|\n",
      "|ooooooooo##xoooooooooooo###|\n",
      "|oooooooo###xoooooooooooo###|\n",
      "|##########oxoooooooooooo###|\n",
      "|oooooooooooxxxxxxoooo##oooo|\n",
      "|o###o#o#o###o###xoooo##ooo |\n",
      "|o# #o#o#o#ooo# #xoooooooo  |\n",
      "|o###o#o#o#ooo###xxxxxxxo=  |\n",
      "|o#ooo#o#o#ooo#oooooo##xE   |\n",
      "|o#ooo###o###o#oooooo##o    |\n",
      "|~ooooooooooooooooooooo~~~~~|\n",
      " --------------------------- \n",
      "x - celdas en la solucion\n",
      "o - celdas visitadas durante la busqueda\n",
      "-------------------------------\n"
     ]
    }
   ],
   "source": [
    "nsol, visited_nodes = graph_search(p, FIFOQueue())\n",
    "print('Solucion BFS: {}. Nodos visitados={}. Costo Solucion = {}'.format(nsol.solution(), len(visited_nodes),nsol.path_cost))\n",
    "displayResults(maze, visited_nodes, nsol.path())"
   ]
  },
  {
   "cell_type": "markdown",
   "metadata": {
    "colab_type": "text",
    "id": "rf4SUSu1q4iE"
   },
   "source": [
    "### Búsqueda en profundidad (DFS)"
   ]
  },
  {
   "cell_type": "code",
   "execution_count": 40,
   "metadata": {
    "colab": {},
    "colab_type": "code",
    "id": "4lBotx47q4iF"
   },
   "outputs": [
    {
     "name": "stdout",
     "output_type": "stream",
     "text": [
      "Solucion DFS: ['E', 'E', 'E', 'E', 'E', 'E', 'E', 'E', 'E', 'E', 'E', 'E', 'E', 'E', 'E', 'E', 'E', 'E', 'E', 'E', 'E', 'S', 'S', 'W', 'W', 'W', 'W', 'W', 'W', 'W', 'W', 'W', 'W', 'S', 'S', 'E', 'S', 'S', 'E', 'E', 'E', 'E', 'E', 'E', 'E', 'S', 'S', 'W', 'W', 'W', 'W', 'W', 'W', 'W', 'W', 'W', 'W', 'W', 'W', 'W', 'S', 'W', 'W', 'W', 'W', 'W', 'W', 'W', 'W', 'W', 'W', 'S', 'S', 'S', 'S', 'S', 'S', 'E', 'E', 'E', 'E', 'E', 'E', 'E', 'E', 'E', 'E', 'E', 'E', 'E', 'E', 'E', 'E', 'E', 'E', 'E', 'E', 'E', 'E', 'E', 'E', 'E', 'E', 'N', 'N', 'W', 'W', 'W']. Nodos visitados=110. Costo Solucion = 367\n",
      " --------------------------- \n",
      "|#################~~~~~~~~~~|\n",
      "|#################    =~   #|\n",
      "|~~  Sxxxxxxxxxxxxxxxxxxxxx#|\n",
      "| ~~~~~ ~~~  ====  ==~=~~ x#|\n",
      "| ~   ===~~   #oxxxxxxxxxxx#|\n",
      "|~~   ===~~  ###x   =~     #|\n",
      "|~~~  ===~~  ## xx###~     #|\n",
      "|~=~    ~~       x## ~   ###|\n",
      "| =~   ~  ##  == xxxxxxxx###|\n",
      "|~~    ==###  == =~     x###|\n",
      "|##########xxxxxxxxxxxxxx###|\n",
      "|xxxxxxxxxxx      ~~~~##~   |\n",
      "|x### # # ### ### ====##=   |\n",
      "|x# # # # #   # #   ==~~~=  |\n",
      "|x### # # #   ###   =~~~==  |\n",
      "|x#   # # #   #     =##~Exxx|\n",
      "|x#   ### ### #     =##    x|\n",
      "|xxxxxxxxxxxxxxxxxxxxxxxxxxx|\n",
      " --------------------------- \n",
      "x - celdas en la solucion\n",
      "o - celdas visitadas durante la busqueda\n",
      "-------------------------------\n"
     ]
    }
   ],
   "source": [
    "nsol, visited_nodes = graph_search(p, [])\n",
    "print('Solucion DFS: {}. Nodos visitados={}. Costo Solucion = {}'.format(nsol.solution(), len(visited_nodes),nsol.path_cost))\n",
    "displayResults(maze, visited_nodes, nsol.path())"
   ]
  },
  {
   "cell_type": "markdown",
   "metadata": {
    "colab_type": "text",
    "id": "56MmR9hcq4iL"
   },
   "source": [
    "### Búsqueda A* con heurística nula (UCS)"
   ]
  },
  {
   "cell_type": "code",
   "execution_count": 41,
   "metadata": {
    "colab": {},
    "colab_type": "code",
    "id": "-39iMmdYq4iM"
   },
   "outputs": [
    {
     "name": "stdout",
     "output_type": "stream",
     "text": [
      "Solucion A* y heuristica nula (UCS): ['S', 'S', 'S', 'S', 'S', 'E', 'E', 'E', 'E', 'E', 'E', 'E', 'E', 'E', 'E', 'E', 'S', 'S', 'S', 'E', 'E', 'E', 'E', 'E', 'E', 'E', 'E', 'S', 'E', 'E', 'S', 'S', 'S', 'S', 'W', 'W']. Nodos visitados=322. Costo Solucion = 61\n",
      " --------------------------- \n",
      "|#################ooooooooo~|\n",
      "|#################ooooooooo#|\n",
      "|ooooSooooooooooooooooooooo#|\n",
      "|ooooxooooooooooooooooooooo#|\n",
      "|ooooxoooooooo#oooooooooooo#|\n",
      "|ooooxooooooo###ooooooooooo#|\n",
      "|ooooxooooooo##ooo###oooooo#|\n",
      "|ooooxxxxxxxxxxxxo##ooooo###|\n",
      "|ooooooooo##ooooxoooooooo###|\n",
      "|oooooooo###ooooxoooooooo###|\n",
      "|##########oooooxxxxxxxxx###|\n",
      "|~~~~ooooooooooooooooo##xxxo|\n",
      "| ###o#o#o###o###ooooo##ooxo|\n",
      "| # #o#o#o#ooo# #ooooooo~oxo|\n",
      "| ###o#o#o#ooo###oooooo~=oxo|\n",
      "| #   #o#o#ooo#oooooo##~Exxo|\n",
      "| #   ###o###o#oooooo##   o |\n",
      "|~~~~~~ooooooooooooooo~~~~~~|\n",
      " --------------------------- \n",
      "x - celdas en la solucion\n",
      "o - celdas visitadas durante la busqueda\n",
      "-------------------------------\n"
     ]
    }
   ],
   "source": [
    "nsol, visited_nodes = astar_search(p, nullheuristic)\n",
    "print('Solucion A* y heuristica nula (UCS): {}. Nodos visitados={}. Costo Solucion = {}'.format(nsol.solution(), len(visited_nodes),nsol.path_cost))\n",
    "displayResults(maze, visited_nodes, nsol.path())"
   ]
  },
  {
   "cell_type": "markdown",
   "metadata": {
    "colab_type": "text",
    "id": "3tECNkm7q4iP"
   },
   "source": [
    "### Búsqueda A* con heurística euclidean_dist (Completar el código para mostrar los resultados de la búsqueda con heurística euclidean_dist)"
   ]
  },
  {
   "cell_type": "code",
   "execution_count": 42,
   "metadata": {
    "colab": {},
    "colab_type": "code",
    "id": "m9kHI8cZq4iQ",
    "scrolled": true
   },
   "outputs": [
    {
     "name": "stdout",
     "output_type": "stream",
     "text": [
      "Solucion A* y distancia euclideana: ['S', 'S', 'S', 'S', 'S', 'E', 'E', 'E', 'E', 'E', 'E', 'E', 'E', 'E', 'E', 'E', 'S', 'S', 'S', 'E', 'E', 'E', 'E', 'E', 'E', 'E', 'E', 'S', 'E', 'S', 'E', 'S', 'S', 'S', 'W', 'W']. Nodos visitados=276. Costo Solucion = 61\n",
      " --------------------------- \n",
      "|#################oo~~~~~~~~|\n",
      "|#################ooooo~   #|\n",
      "|ooooSooooooooooooooooo~   #|\n",
      "|ooooxooooooooooooooo~=~~  #|\n",
      "|ooooxoooooooo#oooooooo~~o #|\n",
      "|ooooxooooooo###ooooooooooo#|\n",
      "|ooooxooooooo##ooo###oooooo#|\n",
      "|ooooxxxxxxxxxxxxo##ooooo###|\n",
      "|ooooooooo##ooooxoooooooo###|\n",
      "|oooooooo###ooooxoooooooo###|\n",
      "|##########oooooxxxxxxxxx###|\n",
      "|~~~~~~~oooooooooooooo##xxoo|\n",
      "| ### # #o###o###ooooo##oxx |\n",
      "| # # # #o#ooo# #ooooooo~ox |\n",
      "| ### # #o#ooo###oooooo~==x |\n",
      "| #   # #o#ooo#oooooo##~Exx |\n",
      "| #   ###o###o#oooooo##     |\n",
      "|~~~~~~~~o~~~oooooooo~~~~~~~|\n",
      " --------------------------- \n",
      "x - celdas en la solucion\n",
      "o - celdas visitadas durante la busqueda\n",
      "-------------------------------\n"
     ]
    }
   ],
   "source": [
    "nsol, visited_nodes = astar_search(p, euclidean_dist)\n",
    "print('Solucion A* y distancia euclideana: {}. Nodos visitados={}. Costo Solucion = {}'.format(nsol.solution(), len(visited_nodes),nsol.path_cost))\n",
    "displayResults(maze, visited_nodes, nsol.path())"
   ]
  },
  {
   "cell_type": "markdown",
   "metadata": {
    "colab_type": "text",
    "id": "F9vuODAZq4iT"
   },
   "source": [
    "### Búsqueda A* con heurística manhattan_dist (Completar el código para mostrar los resultados de la búsqueda con heurística manhattan_dist)"
   ]
  },
  {
   "cell_type": "code",
   "execution_count": 43,
   "metadata": {
    "colab": {},
    "colab_type": "code",
    "id": "IPMjy-Avq4iT"
   },
   "outputs": [
    {
     "name": "stdout",
     "output_type": "stream",
     "text": [
      "Solucion A* y distancia Manhattan: ['S', 'S', 'S', 'S', 'S', 'E', 'E', 'E', 'E', 'E', 'E', 'E', 'E', 'E', 'E', 'E', 'S', 'S', 'S', 'E', 'E', 'E', 'E', 'E', 'E', 'E', 'E', 'S', 'E', 'S', 'E', 'S', 'S', 'S', 'W', 'W']. Nodos visitados=268. Costo Solucion = 61\n",
      " --------------------------- \n",
      "|#################~~~~~~~~~~|\n",
      "|#################ooooo~   #|\n",
      "|ooooSoooooooooooooo~o=~   #|\n",
      "|ooooxooooooooooooooo~=~~  #|\n",
      "|ooooxoooooooo#oooooooo~~o #|\n",
      "|ooooxooooooo###ooooooooooo#|\n",
      "|ooooxooooooo##ooo###~ooooo#|\n",
      "|ooooxxxxxxxxxxxxo##ooooo###|\n",
      "|ooooooooo##ooooxoooooooo###|\n",
      "|oooooooo###ooooxoooooooo###|\n",
      "|##########oooooxxxxxxxxx###|\n",
      "|~~~~~~~oooooooooooooo##xxo |\n",
      "| ### # #o###o###ooooo##oxx |\n",
      "| # # # #o#ooo# #ooooooo~ox |\n",
      "| ### # #o#ooo###oooooo~==x |\n",
      "| #   # #o#ooo#oooooo##~Exx |\n",
      "| #   ###o###o#oooooo##     |\n",
      "|~~~~~~~~~~~~o~oooooo~~~~~~~|\n",
      " --------------------------- \n",
      "x - celdas en la solucion\n",
      "o - celdas visitadas durante la busqueda\n",
      "-------------------------------\n"
     ]
    }
   ],
   "source": [
    "nsol, visited_nodes = astar_search(p, manhattan_dist)\n",
    "print('Solucion A* y distancia Manhattan: {}. Nodos visitados={}. Costo Solucion = {}'.format(nsol.solution(), len(visited_nodes),nsol.path_cost))\n",
    "displayResults(maze, visited_nodes, nsol.path())"
   ]
  },
  {
   "cell_type": "markdown",
   "metadata": {},
   "source": [
    "### Búsqueda A* con heurística chebyshev_dist (Completar el código para mostrar los resultados de la búsqueda con heurística chebyshev_dist)"
   ]
  },
  {
   "cell_type": "code",
   "execution_count": 44,
   "metadata": {},
   "outputs": [
    {
     "name": "stdout",
     "output_type": "stream",
     "text": [
      "Solucion A* y distancia Chebyshev: ['S', 'S', 'S', 'S', 'S', 'E', 'E', 'E', 'E', 'E', 'E', 'E', 'E', 'E', 'E', 'E', 'S', 'S', 'S', 'E', 'E', 'E', 'E', 'E', 'E', 'E', 'E', 'S', 'E', 'S', 'E', 'S', 'S', 'S', 'W', 'W']. Nodos visitados=281. Costo Solucion = 61\n",
      " --------------------------- \n",
      "|#################ooo~~~~~~~|\n",
      "|#################ooooo~   #|\n",
      "|ooooSooooooooooooooooo~   #|\n",
      "|ooooxoooooooooooooooo=~~  #|\n",
      "|ooooxoooooooo#oooooooo~~oo#|\n",
      "|ooooxooooooo###ooooooooooo#|\n",
      "|ooooxooooooo##ooo###oooooo#|\n",
      "|ooooxxxxxxxxxxxxo##ooooo###|\n",
      "|ooooooooo##ooooxoooooooo###|\n",
      "|oooooooo###ooooxoooooooo###|\n",
      "|##########oooooxxxxxxxxx###|\n",
      "|~~~~~~~oooooooooooooo##xxoo|\n",
      "| ### # #o###o###ooooo##oxxo|\n",
      "| # # # #o#ooo# #ooooooo~oxo|\n",
      "| ### # #o#ooo###oooooo~==x |\n",
      "| #   # #o#ooo#oooooo##~Exx |\n",
      "| #   ###o###o#oooooo##     |\n",
      "|~~~~~~~~o~~~oooooooo~~~~~~~|\n",
      " --------------------------- \n",
      "x - celdas en la solucion\n",
      "o - celdas visitadas durante la busqueda\n",
      "-------------------------------\n"
     ]
    }
   ],
   "source": [
    "nsol, visited_nodes = astar_search(p, chebyshev_dist)\n",
    "print('Solucion A* y distancia Chebyshev: {}. Nodos visitados={}. Costo Solucion = {}'.format(nsol.solution(), len(visited_nodes),nsol.path_cost))\n",
    "displayResults(maze, visited_nodes, nsol.path())"
   ]
  },
  {
   "cell_type": "markdown",
   "metadata": {},
   "source": [
    "### Búsqueda A* con heurística lab03_dist (Completar el código para mostrar los resultados de la búsqueda con heurística lab03_dist)"
   ]
  },
  {
   "cell_type": "code",
   "execution_count": 45,
   "metadata": {},
   "outputs": [
    {
     "name": "stdout",
     "output_type": "stream",
     "text": [
      "Solucion A* y distancia Laboratorio 03: ['S', 'S', 'S', 'S', 'S', 'E', 'E', 'E', 'E', 'E', 'E', 'E', 'E', 'E', 'E', 'E', 'S', 'S', 'S', 'E', 'E', 'E', 'E', 'E', 'E', 'E', 'E', 'S', 'E', 'S', 'E', 'S', 'S', 'S', 'W', 'W']. Nodos visitados=268. Costo Solucion = 61\n",
      " --------------------------- \n",
      "|#################~~~~~~~~~~|\n",
      "|#################ooooo~   #|\n",
      "|ooooSoooooooooooooo~o=~   #|\n",
      "|ooooxooooooooooooooo~=~~  #|\n",
      "|ooooxoooooooo#oooooooo~~o #|\n",
      "|ooooxooooooo###ooooooooooo#|\n",
      "|ooooxooooooo##ooo###~ooooo#|\n",
      "|ooooxxxxxxxxxxxxo##ooooo###|\n",
      "|ooooooooo##ooooxoooooooo###|\n",
      "|oooooooo###ooooxoooooooo###|\n",
      "|##########oooooxxxxxxxxx###|\n",
      "|~~~~~~~oooooooooooooo##xxo |\n",
      "| ### # #o###o###ooooo##oxx |\n",
      "| # # # #o#ooo# #ooooooo~ox |\n",
      "| ### # #o#ooo###oooooo~==x |\n",
      "| #   # #o#ooo#oooooo##~Exx |\n",
      "| #   ###o###o#oooooo##     |\n",
      "|~~~~~~~~~~~~o~oooooo~~~~~~~|\n",
      " --------------------------- \n",
      "x - celdas en la solucion\n",
      "o - celdas visitadas durante la busqueda\n",
      "-------------------------------\n"
     ]
    }
   ],
   "source": [
    "nsol, visited_nodes = astar_search(p, lab03_dist)\n",
    "print('Solucion A* y distancia Laboratorio 03: {}. Nodos visitados={}. Costo Solucion = {}'.format(nsol.solution(), len(visited_nodes),nsol.path_cost))\n",
    "displayResults(maze, visited_nodes, nsol.path())"
   ]
  },
  {
   "cell_type": "markdown",
   "metadata": {
    "colab_type": "text",
    "id": "f8m8GNb3q4iW"
   },
   "source": [
    "## Preguntas\n",
    "\n",
    "<b>1) Completar el código faltante (Clases y Heurísticas). (3 ptos)<br>   "
   ]
  },
  {
   "cell_type": "markdown",
   "metadata": {},
   "source": [
    "Completado."
   ]
  },
  {
   "cell_type": "markdown",
   "metadata": {},
   "source": [
    "<b>2) En cuanto a los resultados obtenidos, ¿los algoritmos BFS o DFS encuentran soluciones óptimas?.<br> &nbsp; ¿Qué requisito necesita el problema para que alguno de estos algoritmos encuentre soluciones óptimas? (3 ptos) </b><br>  "
   ]
  },
  {
   "cell_type": "markdown",
   "metadata": {},
   "source": [
    "En este caso en particular, la ssoluciones BFS y DFS no encontraron la solución óptima; además, en un caso genérico no deberían por qué coincidir ya que tanto BFS como DFS no están tratando de optimizar algo, simplemente realizan un recorrido de una determinada manera (expandiendo utilizando una pila o una cola).\n",
    "Solo en el caso de BFS, cuando todos los costos son iguales, es decir, dado un grafo $G = (V, E)$, si existe una constante $c \\geq 0$ tal que $\\text{peso}(e) = c$, para toda arista $e \\in E$, tenemos que BFS computa la distancia mínima desde el nodo en el cual se lanzó este algoritmo hasta todos los alcanzables.\n",
    "Por otro lado, establecer algún requisito para que DFS encuentre una solución óptima es mucho más difícil puesto que este algoritmo se basa en un backtracking. La única manera que podemos garantizar que el DFS encuentra una solución óptima es que exista un único camino desde el nodo origen hacia el nodo destino e igualmente para cada uno de los nodos que pertenecen a dicho camino, en otro caso, al poder existir múltiples maneras de llegar a cualquiera de esos nodos, no podemos garantizar de que el costo sea el óptimo."
   ]
  },
  {
   "cell_type": "markdown",
   "metadata": {},
   "source": [
    "<b>3) En cuanto a las soluciones encontradas por A*, ¿ellas serán siempre óptimas?.<br> &nbsp; ¿Qué necesita la heurística para garantizar soluciones óptimas?.<br> &nbsp; ¿Las heurísticas planteadas para el laboratorio cumplen con estos requisitos?. Explique. (4 ptos)</b><br>\n"
   ]
  },
  {
   "cell_type": "markdown",
   "metadata": {},
   "source": [
    "Debido a la naturaleza de las heurísticas proporcionadas en este laboratorio, afirmo que nuestras soluciones serán óptimas.\n",
    "Para que una heurística garantice optimalidad, esta tiene que ser admisible y consistente.\n",
    "Probemos que cada una de las heurísticas proporcionadas son óptimas.\n",
    "<ul>\n",
    "    <li>\n",
    "        Euclideana:\n",
    "        Esta heurística es admisible, puesto que transicionar de un nodo a otro nos costará 1, 3 o 6, lo cual es siempre mayor o igual a 1. Así, el costo con la menor cantidad de movimientos en caso no haya obstáculos (de haberlo, se harían más movimientos) sería mayor o igual a la distancia manhattan, la cual la podemos interpretar como la suma de los catetos del triángulo rectángulo que conecta nuestro nodo actual con el abjetivo. Como la distancia euclideana es equivalente a la medida de la hipotenusa, por la desigualdad triangular en $\\mathbb{R}^2$ tenemos que $euclideana(n) \\leq h^*(n)$. La consistencia también se desprende de manera inmediata de lo anterior. pues dados $n, n', a \\in V$ tenemos por la desigualdad triangular en $\\mathbb{R}^2$\n",
    "        $$h(n) = euclideana(n, t) \\leq euclideana(n, n') + euclideana(n', t) \\leq c(n, a, n') + h(n'),$$\n",
    "        donde $t$ es el nodo objetivo.\n",
    "    </li>\n",
    "    <li>\n",
    "        Manhattan:\n",
    "        Esta heurística es admisible trivialmente, por el argumento dado en uno ya que el manhattan entre nodos adyacentes es igual a 1 y nuestros costos de acciones son mayores o iguales a 1, por lo que nuestra heurística siempre será menos que el costo real.\n",
    "        Asimismo, es consistente utilizando el mismo argumento similar puesto que la desigualdad triangular la podemos probar sencillamente analizando dos casos, dados dos puntos, chequeamos lo que ocurre cuando el punto intermedio se encuentra dentro de la región que encierra rectangularmente al origen y el destino, y si está fuera, es sencillo ver que es estrictamente mayor. Así, como cumple con la desigualdad triangular en $\\mathbb{R}^2$, de la misma manera cumple con la desigualdad triangular heurística.\n",
    "    </li>\n",
    "    <li>\n",
    "        Chebyshev:\n",
    "    </li>\n",
    "    Esta heurística es óptima trivialmente, por el mismo hecho que el máximo entre las distancias de los catetos es menor o igual a la suma de estos, y por transitividad, va a ser siempre menor o igual a la distancia manhattan, por lo que heredaría inmediatamente la admisibilidad y consistencia.\n",
    "    <li>\n",
    "        Laboratorio:\n",
    "        Al igual que la de Chebyshev, esta heurística es óptima trivialmente, y principalmente porque la función máximo es una función continua en $\\mathbb{R}^n$, en particular, en $\\mathbb{R}^2$ y estamos componiendo una función continua con funciones óptimas, por lo que las propiedades de admisibilidad y consistencia trivialmente se desprenden de esta al analizar las diferentes situaciones.\n",
    "    </li>\n",
    "</ul>"
   ]
  },
  {
   "cell_type": "markdown",
   "metadata": {},
   "source": [
    "<b>4) En cuanto al costo temporal, ¿qué método visita menos nodos?.<br> &nbsp; ¿Cómo podría esto beneficiar a casos reales en los que se emplee algoritmos A*? (3 ptos) </b><br>"
   ]
  },
  {
   "cell_type": "markdown",
   "metadata": {},
   "source": [
    "El método que visita menos nodos es laboratorio.\n",
    "Dadas las heurísticas euclideana: $V \\times V \\to \\mathbb{R}$, manhattan: $V \\times V \\to \\mathbb{R}$, chebyshev: $V \\times V \\to \\mathbb{R}$ y laboratorio: $V \\times V \\to \\mathbb{R}$ cuyas reglas de correspondencia fueron definidas previamente.\n",
    "Afirmo que la heurística laboratorio domina a cualquiera de las otras tres. Concluir esto es trivial, pues dado un nodo $n \\in V$ fijo pero arbitrario y cualquier heurística $h$ en {euclideana, manhattan, chebyshev} tenemos que\n",
    "$$\n",
    "h(n) \\leq \\max(euclideana(n), manhattan(n), chebyshev(n)) = laboratorio(n).\n",
    "$$\n",
    "Por lo tanto, laboratorio domina a las demás heurísticas.\n",
    "De esta manera, al estar expandiendo nodos más cercanos a nuestro objetivo, expandimos menos nodos.\n",
    "Como consecuencia inmediata, el beneficio es que necesitamos menos memoria para poder realizar el análisis en el grafo. Asimismo, como expandemos menos nodos, tenemos menos complejidad en tiempo."
   ]
  },
  {
   "cell_type": "markdown",
   "metadata": {},
   "source": [
    "<b>5) ¿Existe relación de dominancia entre algún par de heurísticas implementadas (No considerar heurística nula)?. &nbsp; <br>¿Guarda alguna relación la solución de menor costo temporal y la heurística dominante? Explique. (3 ptos) </b><br>"
   ]
  },
  {
   "cell_type": "markdown",
   "metadata": {},
   "source": [
    "Como se ha desarrollado ampliamente en la pregunta 2, existen muchas relaciones de dominancia en las heurísticas proporcionados.\n",
    "La más fácil es la de Chebyshev, la cual es dominada por todas las demás, puesto que el máximo de las diferencias, es el tamaño del mayor cateto, lo cual es menor o igual a la suma de ambos, el cual es menor o igual a la hipotenusa, y el cual trivialmente es menor o igual que le máximo de las tres que obtengamos.\n",
    "Asimismo, euclideana es dominada por Manhattan puesto que la medida de la hipotenusa es menor estricto que la suma de los catetos, y también es dominada por laboratorio puesto que es el máximo entre cualquiera.\n",
    "Luego, Manhattan es fácilmente dominada por laboratorio debido a que siempre cogerá el máximo de las otras mediciones o esa misma.\n",
    "En la pregunta 4 hemos probado que laboratorio domina a las demás heurísticas.\n",
    "Respecto a si guarda alguna relación la solución de menor costo temporal con la heurística dominante, esto ya fue justificado en la pregunta 4."
   ]
  },
  {
   "cell_type": "markdown",
   "metadata": {},
   "source": [
    "<b>6) ¿Explique cómo expande nodos cada método (UCS y las 4 heurísticas)?.<br>¿Coinciden las propiedades de una heurística con las zonas exploradas por cada una en las pruebas? Explique. (4 ptos)</b><br>"
   ]
  },
  {
   "cell_type": "markdown",
   "metadata": {},
   "source": [
    "El método UCS expande sus nodos de manera greedy utilizando el costo menor de llegar desde el origen hacia el nodo actual sin alguna heurística.\n",
    "Por este motivo, este induce un árbol de expansión que va ramificándose de manera regular.\n",
    "Por otro lado, nuestras otras 4 heurísticas tienen maneras distintas de ir expandiendo por su naturaleza, las cuales son fáciles de analizar con nuestro conocimiento básico de topología en $\\mathbb{R}^n$ utilizando el teorema de equivalencia de normas. Debido a esto, cuatro tendrán una manera suave de expansión, pero con una distinta forma. Por ejemplo, la norma de la suma trata de expandirse como en un rombo debido a las ecuaciones que implican mantener las sumas. La norma del chevyshev, al ser la norma del máximo, se va expandiendo como un cuadrado, la normal euclideana trata de ir expandiéndose como una circunferencia (y normalmente se suele deformar de manera elíptica) mientras que la de laboratorio se expande fusionando un poco los previos, por lo que tendría una forma un poco amorfa pero limpia en el sentido de crecimiento.\n",
    "Efectivamente, estas propiedades coinciden con las zonas exploradas por lo mencionado arriba, sin embargo, no podemos apreciarlo tanto en el output obtenido porque es el estado final del mapa, pero si lo viésemos ir creciendo, obtendríamos una visualización muy similar de acuerdo a la teoría de Análisis Real."
   ]
  },
  {
   "cell_type": "code",
   "execution_count": null,
   "metadata": {},
   "outputs": [],
   "source": []
  }
 ],
 "metadata": {
  "colab": {
   "collapsed_sections": [],
   "name": "Laboratorio 3-ACC.ipynb",
   "provenance": []
  },
  "kernelspec": {
   "display_name": "Python 3",
   "language": "python",
   "name": "python3"
  },
  "language_info": {
   "codemirror_mode": {
    "name": "ipython",
    "version": 3
   },
   "file_extension": ".py",
   "mimetype": "text/x-python",
   "name": "python",
   "nbconvert_exporter": "python",
   "pygments_lexer": "ipython3",
   "version": "3.8.5"
  }
 },
 "nbformat": 4,
 "nbformat_minor": 4
}
