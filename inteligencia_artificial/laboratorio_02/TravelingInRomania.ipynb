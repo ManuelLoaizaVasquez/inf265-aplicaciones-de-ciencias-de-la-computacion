{
 "cells": [
  {
   "cell_type": "markdown",
   "metadata": {
    "id": "r31egGtO5TsZ"
   },
   "source": [
    "# APLICACIONES EN CIENCIAS DE COMPUTACION"
   ]
  },
  {
   "cell_type": "markdown",
   "metadata": {
    "id": "5t1ZILQp5U_m"
   },
   "source": [
    "## Laboratorio 2: Implementacion metodos de busqueda ciega para el Problema de Busqueda de Rutas en Mapas\n",
    "\n",
    "La tarea de este laboratorio consiste en implementar y comparar métodos de busqueda ciega para buscar rutas en mapas.\n",
    "\n",
    "\n",
    "Al final de este notebook debe responder algunas preguntas."
   ]
  },
  {
   "cell_type": "markdown",
   "metadata": {
    "id": "E1EbdylV-QSc"
   },
   "source": [
    "### Clase Mapa"
   ]
  },
  {
   "cell_type": "markdown",
   "metadata": {
    "id": "OsXo8Q22xT5l"
   },
   "source": [
    "Estructura para almacenar informacion de un mapa. Tiene dos atributos: <b>neighbors</b> (diccionario que contiene las ciudades vecinas de cada ciudad y las distancias para llegar a ellas) y <b>location</b>, diccionario con las coordenadas X,Y de cada ciudad."
   ]
  },
  {
   "cell_type": "code",
   "execution_count": 2,
   "metadata": {
    "id": "63sg-sJIxT5l"
   },
   "outputs": [],
   "source": [
    "class Mapa:\n",
    "    def __init__(self, neighbors, location):\n",
    "        self.neighbors = neighbors\n",
    "        self.location = location"
   ]
  },
  {
   "cell_type": "code",
   "execution_count": 3,
   "metadata": {
    "id": "FFm8v_rOxT5o"
   },
   "outputs": [],
   "source": [
    "neighbors = {\n",
    " 'A': [('Z',75), ('T',118), ('S',140)],\n",
    " 'B': [('F',211), ('P',101), ('G',90), ('U',85)],\n",
    " 'C': [('D',120), ('R',146), ('P',138)],\n",
    " 'D': [('M',75), ('C',120)],\n",
    " 'E': [('H',86)],\n",
    " 'F': [('S',99), ('B',211)],\n",
    " 'G': [('B',90)],\n",
    " 'H': [('U',98), ('E',86)],\n",
    " 'I': [('N',87), ('V',92)],\n",
    " 'L': [('T',111), ('M',70)],\n",
    " 'M': [('L',70), ('D',75)],\n",
    " 'N': [('I',87)],\n",
    " 'O': [('Z',71), ('S',151)],\n",
    " 'P': [('R',97), ('C',138), ('B',101)],\n",
    " 'R': [('S',80), ('C',146), ('P',97)],\n",
    " 'S': [('A',140), ('O',151), ('F',99), ('R',80)],\n",
    " 'T': [('A',118), ('L',111)],\n",
    " 'U': [('B',85), ('V',142), ('H',98)],\n",
    " 'V': [('U',142), ('I',92)],\n",
    " 'Z': [('O',71), ('A',75)]}\n",
    "\n",
    "location = {\n",
    " 'A': (91, 492),\n",
    " 'B': (400, 327),\n",
    " 'C': (253, 288),\n",
    " 'D': (165, 299),\n",
    " 'E': (562, 293),\n",
    " 'F': (305, 449),\n",
    " 'G': (375, 270),\n",
    " 'H': (534, 350),\n",
    " 'I': (473, 506),\n",
    " 'L': (165, 379),\n",
    " 'M': (168, 339),\n",
    " 'N': (406, 537),\n",
    " 'O': (131, 571),\n",
    " 'P': (320, 368),\n",
    " 'R': (233, 410),\n",
    " 'S': (207, 457),\n",
    " 'T': (94, 410),\n",
    " 'U': (456, 350),\n",
    " 'V': (509, 444),\n",
    " 'Z': (108, 531)}\n",
    "\n",
    "romania = Mapa(neighbors, location)\n"
   ]
  },
  {
   "cell_type": "markdown",
   "metadata": {
    "id": "4zuzZUC0-T2h"
   },
   "source": [
    "### Clase <b>SearchProblem</b>\n",
    "\n",
    "Esta es una clase abstracta para definir problemas de busqueda. Se debe hacer subclases que implementen los metodos de las acciones, resultados, test de objetivo y el costo de camino. Entonces se puede instanciar las subclases y resolverlos con varias funciones de busqueda."
   ]
  },
  {
   "cell_type": "code",
   "execution_count": 4,
   "metadata": {
    "id": "bgocCUWC-Vla"
   },
   "outputs": [],
   "source": [
    "class SearchProblem(object):\n",
    "    def __init__(self, initial, goal=None):\n",
    "        \"\"\"Este constructor especifica el estado inicial y posiblemente el estado(s) objetivo(s),\n",
    "        La subclase puede añadir mas argumentos.\"\"\"\n",
    "        self.initial = initial\n",
    "        self.goal = goal\n",
    "\n",
    "    def actions(self, state):\n",
    "        \"\"\"Retorna las acciones que pueden ser ejecutadas en el estado dado.\n",
    "        El resultado es tipicamente una lista.\"\"\"\n",
    "        raise NotImplementedError\n",
    "\n",
    "    def result(self, state, action):\n",
    "        \"\"\"Retorna el estado que resulta de ejecutar la accion dada en el estado state.\n",
    "        La accion debe ser alguna de self.actions(state).\"\"\"\n",
    "        raise NotImplementedError\n",
    "\n",
    "    def goal_test(self, state):\n",
    "        \"\"\"Retorna True si el estado pasado satisface el objetivo.\"\"\"\n",
    "        raise NotImplementedError\n",
    "\n",
    "    def path_cost(self, c, state1, action, state2):\n",
    "        \"\"\"Retorna el costo del camino de state2 viniendo de state1 con \n",
    "        la accion action, asumiendo un costo c para llegar hasta state1. \n",
    "        El metodo por defecto cuesta 1 para cada paso en el camino.\"\"\"\n",
    "        return c + 1\n",
    "\n",
    "    def value(self, state):\n",
    "        \"\"\"En problemas de optimizacion, cada estado tiene un valor. Algoritmos\n",
    "        como Hill-climbing intentan maximizar este valor.\"\"\"\n",
    "        raise NotImplementedError"
   ]
  },
  {
   "cell_type": "markdown",
   "metadata": {
    "id": "6jjehUso-Yss"
   },
   "source": [
    "###  <b> Clase MapSearchProblem </b>  \n",
    "Esta es una subclase de SearchProblem donde se define concretamente el problema de busqueda en mapa. El constructor recibe el estado inicial, objetivo y un mapa. Se necesita completar Actions (acciones disponibles para un estado dado) y path_cost."
   ]
  },
  {
   "cell_type": "code",
   "execution_count": 10,
   "metadata": {
    "id": "VmcruW1R-aV0"
   },
   "outputs": [],
   "source": [
    "class MapSearchProblem(SearchProblem):\n",
    "    def __init__(self, initial, goal, mapa):\n",
    "        \"\"\"El constructor recibe  el estado inicial, el estado objetivo y un mapa (de clase Mapa)\"\"\"\n",
    "        self.initial = initial\n",
    "        self.goal = goal\n",
    "        self.map = mapa\n",
    "\n",
    "    def actions(self, state):\n",
    "        \"\"\"Retorna las acciones ejecutables desde ciudad state.\n",
    "        El resultado es una lista de strings tipo 'goCity'. \n",
    "        Por ejemplo, en el mapa de Romania, las acciones desde Arad serian:\n",
    "         ['goZerind', 'goTimisoara', 'goSibiu']\"\"\"\n",
    "        neighbors = []\n",
    "        acciones = []\n",
    "        neighbors = self.map.neighbors[state]\n",
    "        for neighbor in neighbors:\n",
    "            message = \"go\" + neighbor[0]\n",
    "            acciones.append(message)\n",
    "        return acciones\n",
    "\n",
    "    def result(self, state, action):\n",
    "        \"\"\"Retorna el estado que resulta de ejecutar la accion dada desde ciudad state.\n",
    "        La accion debe ser alguna de self.actions(state)\n",
    "        Por ejemplo, en el mapa de Romania, el resultado de aplicar la accion 'goZerind' \n",
    "        desde el estado 'Arad' seria 'Zerind'\"\"\"  \n",
    "        new_state = action[2]\n",
    "        return new_state\n",
    "        \n",
    "    def goal_test(self, state):\n",
    "        \"\"\"Retorna True si state es self.goal\"\"\"\n",
    "        return (self.goal == state) \n",
    "\n",
    "    def path_cost(self, c, state1, action, state2):\n",
    "        \"\"\"Retorna el costo del camino de state2 viniendo de state1 con la accion action \n",
    "        El costo del camino para llegar a state1 es c. El costo de la accion debe ser\n",
    "        extraido de self.map.\"\"\"\n",
    "        action_cost = 0;\n",
    "        dest_states = self.map.neighbors[state1] # estado destino, state2\n",
    "        for next_state in dest_states:\n",
    "            if next_state[0] == state2:\n",
    "                action_cost = next_state[1]\n",
    "                break\n",
    "        return c + action_cost;"
   ]
  },
  {
   "cell_type": "markdown",
   "metadata": {
    "id": "JrdD2Em6-cCf"
   },
   "source": [
    "### Clase <b>Node</b>\n",
    "\n",
    "Estructura de datos para almacenar la informacion de un nodo en un <b>arbol de busqueda</b>. Contiene información del nodo padre y el estado que representa el nodo. Tambien incluye la accion que nos llevo al presente nodo y el costo total del camino desde el nodo raiz hasta este nodo."
   ]
  },
  {
   "cell_type": "code",
   "execution_count": 11,
   "metadata": {
    "id": "iqKZDUbT-eSY"
   },
   "outputs": [],
   "source": [
    "class Node:\n",
    "    def __init__(self, state, parent=None, action=None, path_cost=0):\n",
    "        \"Crea un nodo de arbol de busqueda, derivado del nodo parent y accion action\"\n",
    "        self.state = state\n",
    "        self.parent = parent\n",
    "        self.action = action\n",
    "        self.path_cost = path_cost\n",
    "        self.depth = 0\n",
    "        if parent:\n",
    "            self.depth = parent.depth + 1\n",
    "\n",
    "    def expand(self, problem):\n",
    "        \"Devuelve los nodos alcanzables en un paso a partir de este nodo.\"\n",
    "        return [self.child_node(problem, action)\n",
    "                for action in problem.actions(self.state)]\n",
    "\n",
    "    def child_node(self, problem, action):\n",
    "        next = problem.result(self.state, action)\n",
    "        return Node(next, self, action,\n",
    "                    problem.path_cost(self.path_cost, self.state, action, next))\n",
    "\n",
    "    def solution(self):\n",
    "        \"Retorna la secuencia de acciones para ir de la raiz a este nodo.\"\n",
    "        return [node.action for node in self.path()[1:]]\n",
    "\n",
    "    def path(self):\n",
    "        \"Retorna una lista de nodos formando un camino de la raiz a este nodo.\"\n",
    "        current = self\n",
    "        path = []\n",
    "        # En este problema en particular, como solo quiero conocer las acciones que\n",
    "        # tomo a la hora de transicionar de un nodo a otro, lo que añadiré a mi lista\n",
    "        # serán las acciones. En caso se quieran los nodos, cambiar\n",
    "        # path.append(current.action)\n",
    "        # por\n",
    "        # path.append(current)\n",
    "        while current is not None:\n",
    "            if current.parent is None:\n",
    "                break\n",
    "            path.append(current.action)\n",
    "            current = current.parent\n",
    "        # Finalmente, invertimos el recorrido\n",
    "        path.reverse()\n",
    "        return path\n",
    "    \n",
    "    def __eq__(self, other): \n",
    "        \"Este metodo se ejecuta cuando se compara nodos. Devuelve True cuando los estados son iguales\"\n",
    "        return isinstance(other, Node) and self.state == other.state"
   ]
  },
  {
   "cell_type": "markdown",
   "metadata": {
    "id": "wHNhFVuG-gr7"
   },
   "source": [
    "### <b> Definición de fronteras</b>\n",
    "Se definen las clases correspondientes a colas FIFO y LIFO para usar como fronteras."
   ]
  },
  {
   "cell_type": "code",
   "execution_count": 12,
   "metadata": {
    "id": "abrsrZQi-naG"
   },
   "outputs": [],
   "source": [
    "from collections import deque\n",
    "\n",
    "class FIFO(deque):\n",
    "    \"\"\"Una cola First-In-First-Out\"\"\"\n",
    "    def pop(self):\n",
    "        return self.popleft()\n",
    "\n",
    "class LIFO(deque):\n",
    "    \"\"\"Una cola Last-In-First-Out\"\"\"\n",
    "\n",
    "import heapq\n",
    "class PQ:\n",
    "    heap = []\n",
    "    def __init(self):\n",
    "        heapq.heapify(self.heap)\n",
    "        \n",
    "    def pop(self):\n",
    "        return heapq.heappop(self.heap)\n",
    "    \n",
    "    def append(self, node):\n",
    "        heapq.heappush(self.heap, node)\n",
    "    \n",
    "    def extend(self, nodes):\n",
    "        for node in nodes:\n",
    "            heapq.heappush(self.heap, node)"
   ]
  },
  {
   "cell_type": "markdown",
   "metadata": {
    "id": "O1mNc8iC-wts"
   },
   "source": [
    "### <b>Algoritmo general de búsqueda con memoria de nodos expandidos (Graph Search)</b>\n",
    "\n",
    "Algoritmo de general de busqueda ciega con memoria de estados visitados. El argumento frontier debe ser una cola vacia FIFO o LIFO. Explora la frontera de acuerdo al algoritmo de búsqueda en árboles visto en clase\n",
    "\n"
   ]
  },
  {
   "cell_type": "code",
   "execution_count": 13,
   "metadata": {
    "id": "cQDmnBob-x9n"
   },
   "outputs": [],
   "source": [
    "def graph_search(problem, frontier):\n",
    "    frontier.append(Node(problem.initial))\n",
    "    explored = set()     # memoria de estados visitados\n",
    "    expanded_nodes = 0   # contador de nodos expandidos\n",
    "    while frontier:\n",
    "        node = frontier.pop()\n",
    "        if problem.goal_test(node.state):\n",
    "            return node, expanded_nodes\n",
    "        explored.add(node.state)\n",
    "        expanded_nodes = expanded_nodes + 1\n",
    "        frontier.extend(child for child in node.expand(problem)\n",
    "                        if child.state not in explored and\n",
    "                        child not in frontier)\n",
    "    return None"
   ]
  },
  {
   "cell_type": "markdown",
   "metadata": {
    "id": "3if6iv7TBXK0"
   },
   "source": [
    "### <b> Probando los algoritmos de Busqueda</b> \n",
    "Ejecutar la búsqueda BFS, DFS y UCS aplicando la frontera correspondiente e imprimir los resultados. El output de la siguiente celda debe ser el siguiente:\n",
    "\n",
    "Solucion obtenida con BFS: ['goS', 'goF', 'goB']. Nodos expandidos = 9.\n",
    "\n",
    "Solucion obtenida con DFS: ['goS', 'goR', 'goP', 'goB']. Nodos expandidos = 4. \n",
    "\n",
    "Solucion obtenida con UCS: ['goS', 'goR', 'goP', 'goB']. Nodos expandidos = 12. \n"
   ]
  },
  {
   "cell_type": "code",
   "execution_count": 14,
   "metadata": {
    "id": "N-6S54lZBWt0"
   },
   "outputs": [
    {
     "name": "stdout",
     "output_type": "stream",
     "text": [
      "Solucion obtenida con BFS:  ['goS', 'goF', 'goB'] . Nodos expandidos =  9 .\n",
      "Solucion obtenida con DFS:  ['goS', 'goR', 'goP', 'goB'] . Nodos expandidos =  4 .\n"
     ]
    }
   ],
   "source": [
    "p = MapSearchProblem('A', 'B', romania)   # problema de busqueda de ruta de Arad a Bucharest\n",
    "\n",
    "# Para un BFS utilizamos una cola\n",
    "last, expanded_nodes = graph_search(p, FIFO())\n",
    "print('Solucion obtenida con BFS: ', last.path(), '. Nodos expandidos = ', expanded_nodes, '.')\n",
    "\n",
    "# Para un DFS utilizamos una pila\n",
    "last, expanded_nodes = graph_search(p, LIFO())\n",
    "print('Solucion obtenida con DFS: ', last.path(), '. Nodos expandidos = ', expanded_nodes, '.')\n",
    "\n",
    "# Para un UCS utilizamos una cola de prioridad\n",
    "# En la clase PQ, faltaria definirle un iterador para que realice la expansión correctamente, pero todo lo demás\n",
    "# está bien definido\n",
    "#last, expanded_nodes = graph_search(p, PQ())\n",
    "#print('Solucion obtenida con DFS: ', last.path(), '. Nodos expandidos = ', expanded_nodes, '.')"
   ]
  },
  {
   "cell_type": "markdown",
   "metadata": {
    "id": "dkTzyfsrBa0E"
   },
   "source": [
    "## Preguntas\n",
    "\n",
    "<b>0) Completar el código y ejecutar satisfactoriamente las pruebas</b> (3 pts)\n",
    "\n",
    "\n",
    "\n"
   ]
  },
  {
   "cell_type": "markdown",
   "metadata": {},
   "source": [
    "Completado satisfactoriamente."
   ]
  },
  {
   "cell_type": "markdown",
   "metadata": {},
   "source": [
    "<b>1) Probar BFS y DFS en los siguientes problemas (registre la ruta tomada y los nodos expandidos): </b> (4 pts)\n",
    "* p = MapSearchProblem('A', 'D', romania)\n",
    "* p = MapSearchProblem('F', 'Z', romania)\n",
    "* p = MapSearchProblem('N', 'R', romania)\n",
    "* p = MapSearchProblem('A', 'U', romania)\n",
    "* p = MapSearchProblem('T', 'G', romania)"
   ]
  },
  {
   "cell_type": "code",
   "execution_count": 15,
   "metadata": {},
   "outputs": [
    {
     "name": "stdout",
     "output_type": "stream",
     "text": [
      "Solucion obtenida con BFS:  ['goT', 'goL', 'goM', 'goD'] . Nodos expandidos =  12 .\n",
      "Solucion obtenida con DFS:  ['goS', 'goR', 'goC', 'goD'] . Nodos expandidos =  13 .\n"
     ]
    }
   ],
   "source": [
    "p = MapSearchProblem('A', 'D', romania)\n",
    "# Para un BFS utilizamos una cola\n",
    "last, expanded_nodes = graph_search(p, FIFO())\n",
    "print('Solucion obtenida con BFS: ', last.path(), '. Nodos expandidos = ', expanded_nodes, '.')\n",
    "# Para un DFS utilizamos una pila\n",
    "last, expanded_nodes = graph_search(p, LIFO())\n",
    "print('Solucion obtenida con DFS: ', last.path(), '. Nodos expandidos = ', expanded_nodes, '.')"
   ]
  },
  {
   "cell_type": "code",
   "execution_count": 16,
   "metadata": {},
   "outputs": [
    {
     "name": "stdout",
     "output_type": "stream",
     "text": [
      "Solucion obtenida con BFS:  ['goS', 'goA', 'goZ'] . Nodos expandidos =  9 .\n",
      "Solucion obtenida con DFS:  ['goB', 'goP', 'goC', 'goD', 'goM', 'goL', 'goT', 'goA', 'goZ'] . Nodos expandidos =  16 .\n"
     ]
    }
   ],
   "source": [
    "p = MapSearchProblem('F', 'Z', romania)\n",
    "# Para un BFS utilizamos una cola\n",
    "last, expanded_nodes = graph_search(p, FIFO())\n",
    "print('Solucion obtenida con BFS: ', last.path(), '. Nodos expandidos = ', expanded_nodes, '.')\n",
    "# Para un DFS utilizamos una pila\n",
    "last, expanded_nodes = graph_search(p, LIFO())\n",
    "print('Solucion obtenida con DFS: ', last.path(), '. Nodos expandidos = ', expanded_nodes, '.')"
   ]
  },
  {
   "cell_type": "code",
   "execution_count": 17,
   "metadata": {},
   "outputs": [
    {
     "name": "stdout",
     "output_type": "stream",
     "text": [
      "Solucion obtenida con BFS:  ['goI', 'goV', 'goU', 'goB', 'goP', 'goR'] . Nodos expandidos =  11 .\n",
      "Solucion obtenida con DFS:  ['goI', 'goV', 'goU', 'goB', 'goP', 'goR'] . Nodos expandidos =  18 .\n"
     ]
    }
   ],
   "source": [
    "p = MapSearchProblem('N', 'R', romania)\n",
    "# Para un BFS utilizamos una cola\n",
    "last, expanded_nodes = graph_search(p, FIFO())\n",
    "print('Solucion obtenida con BFS: ', last.path(), '. Nodos expandidos = ', expanded_nodes, '.')\n",
    "# Para un DFS utilizamos una pila\n",
    "last, expanded_nodes = graph_search(p, LIFO())\n",
    "print('Solucion obtenida con DFS: ', last.path(), '. Nodos expandidos = ', expanded_nodes, '.')"
   ]
  },
  {
   "cell_type": "code",
   "execution_count": 18,
   "metadata": {},
   "outputs": [
    {
     "name": "stdout",
     "output_type": "stream",
     "text": [
      "Solucion obtenida con BFS:  ['goS', 'goF', 'goB', 'goU'] . Nodos expandidos =  14 .\n",
      "Solucion obtenida con DFS:  ['goS', 'goR', 'goP', 'goB', 'goU'] . Nodos expandidos =  5 .\n"
     ]
    }
   ],
   "source": [
    "p = MapSearchProblem('A', 'U', romania)\n",
    "# Para un BFS utilizamos una cola\n",
    "last, expanded_nodes = graph_search(p, FIFO())\n",
    "print('Solucion obtenida con BFS: ', last.path(), '. Nodos expandidos = ', expanded_nodes, '.')\n",
    "# Para un DFS utilizamos una pila\n",
    "last, expanded_nodes = graph_search(p, LIFO())\n",
    "print('Solucion obtenida con DFS: ', last.path(), '. Nodos expandidos = ', expanded_nodes, '.')"
   ]
  },
  {
   "cell_type": "code",
   "execution_count": 19,
   "metadata": {},
   "outputs": [
    {
     "name": "stdout",
     "output_type": "stream",
     "text": [
      "Solucion obtenida con BFS:  ['goA', 'goS', 'goF', 'goB', 'goG'] . Nodos expandidos =  13 .\n",
      "Solucion obtenida con DFS:  ['goL', 'goM', 'goD', 'goC', 'goP', 'goB', 'goG'] . Nodos expandidos =  13 .\n"
     ]
    }
   ],
   "source": [
    "p = MapSearchProblem('T', 'G', romania)\n",
    "# Para un BFS utilizamos una cola\n",
    "last, expanded_nodes = graph_search(p, FIFO())\n",
    "print('Solucion obtenida con BFS: ', last.path(), '. Nodos expandidos = ', expanded_nodes, '.')\n",
    "# Para un DFS utilizamos una pila\n",
    "last, expanded_nodes = graph_search(p, LIFO())\n",
    "print('Solucion obtenida con DFS: ', last.path(), '. Nodos expandidos = ', expanded_nodes, '.')"
   ]
  },
  {
   "cell_type": "markdown",
   "metadata": {},
   "source": [
    "<b>2) Compare los nodos expandidos al buscar la ruta entre P y R, y explique la diferencia utilizando la teoría detrás de las búsquedas BFS y DFS </b> (4 pts)"
   ]
  },
  {
   "cell_type": "code",
   "execution_count": 20,
   "metadata": {},
   "outputs": [
    {
     "name": "stdout",
     "output_type": "stream",
     "text": [
      "Solucion obtenida con BFS:  ['goR'] . Nodos expandidos =  1 .\n",
      "Solucion obtenida con DFS:  ['goR'] . Nodos expandidos =  19 .\n"
     ]
    }
   ],
   "source": [
    "p = MapSearchProblem('P', 'R', romania)\n",
    "# Para un BFS utilizamos una cola\n",
    "last, expanded_nodes = graph_search(p, FIFO())\n",
    "print('Solucion obtenida con BFS: ', last.path(), '. Nodos expandidos = ', expanded_nodes, '.')\n",
    "# Para un DFS utilizamos una pila\n",
    "last, expanded_nodes = graph_search(p, LIFO())\n",
    "print('Solucion obtenida con DFS: ', last.path(), '. Nodos expandidos = ', expanded_nodes, '.')"
   ]
  },
  {
   "cell_type": "markdown",
   "metadata": {},
   "source": [
    "En el caso de BFS, como nos encontramos a distancia uno y justo exploramos al nodo R en nuestro recorrido del primer nivel, se acabó.\n",
    "Sin embargo, a pesar de estar a distancia uno, cuando lanzamos el DFS, como realiza una búsqueda a profundidad y al parecer este comienza yendo hacia el estado B, entonces se termina desviando mucho recorriendo a todo lo que B\n",
    "nos permite explorar, y por mala suerte nuestra, luego cuando vuelve, encuentra a R."
   ]
  },
  {
   "cell_type": "markdown",
   "metadata": {},
   "source": [
    "<b>3) Justifique teóricamente la optimalidad (o no-optimalidad) de cada algoritmo</b> (4 pts)\n",
    "\n",
    "BFS:\n",
    "Complejidad en tiempo: $O(V + E)$ o $O(b^{d + 1})$.\n",
    "Complejidad en memoria: $O(V)$ o $O(b^d)$.\n",
    "Encolamos una sola vez cada nodo ya que estamos memorizando los que ya han sido visitados, y como no lo volvemos a encolar, entonces recorremos a ellos $O(V)$ en tiempo, y como para cada uno analizaré en $O(1)$ a cada vecino, la complejidad total en tiempo sería $O(V + E)$. En memoria, como tendremos nuestra cola en la cual iremos pusheando y popeando a los elementos, tendremos $O(V)$.\n",
    "La manera análoga expresada es con la cantidad de nodos en la frontera y la cantidad de nodos como la sumatoria de los visitados hasta ahora.\n",
    "\n",
    "DFS:\n",
    "Complejidad en tiempo: $O(V + E)$ o $O(b^m)$.\n",
    "Complejidad en memoria: $O(V)$ o $O(m)$.\n",
    "Sin pensar tanto, realizamos un backtracking descubriendo todo lo que podemos en nuestro camino.\n",
    "La manera análoga es con la profundidad de nuestro backtracking en la pila, y en nodos todos los que hemos creado.\n",
    "\n",
    "UCS:\n",
    "Complejidad en tiempo: $O(V \\log V + E)$  o $O(b^{1 + C / e})$.\n",
    "Complejidad en memoria: $O(V + E)$ o $O(b^{1 + C / e})$\n",
    "En UCS, una manera de mejorar la complejidad en memoria sería utilizar un set en vez de una cola de prioridad,\n",
    "puesto que en una cola de prioridad obtenemos el menor y si hay repetidos y no podemos relajar más una arista,\n",
    "estaríamos quedándonos con el menor y lo descartaríamos, sin embargo, en un set, reemplazamos un solo valor\n",
    "y como internamente funciona con un árbol balanceado, el iterador inicial apunta al menor elemento en este set."
   ]
  },
  {
   "cell_type": "markdown",
   "metadata": {},
   "source": [
    "<b>4) ¿En qué caso sugeriría usar cada algoritmo?</b> (3 pts)\n"
   ]
  },
  {
   "cell_type": "markdown",
   "metadata": {},
   "source": [
    "El algoritmo BFS lo usaría cuando sé que todos los nodos tienen un mismo costo constante (por ejemplo, si todos tuviesen costo 1, estamos computando la distancia mínima de la fuente a cada nodo alcanzado).\n",
    "El DFS lo utilizaría solamente cuando quiero encontrar cualquier camino o saber si es que están conectados (es decir, si existe al menos un camino que una la fuente con el destino).\n",
    "El algoritmo UCS lo utilizaría cuando tengo pesos distintos. Al igual que el famoso algoritmo de Dijkstra, la relajación greedy ocurre al tomar el peso de menor costo."
   ]
  },
  {
   "cell_type": "markdown",
   "metadata": {},
   "source": [
    "<b>5) ¿Por qué se implementa una memoria de estados visitados en el algoritmo de búsqueda en grafo? </b> (2 pts)"
   ]
  },
  {
   "cell_type": "markdown",
   "metadata": {},
   "source": [
    "Se implementa una memoria de estados visitados porque sin esta, podríamos estar llegando a nodos que ya han sido analizados en nuestro algoritmo, por lo que podríamos o bien analizar muchos casos más, o en el peor escenario, tener un bucle infinito."
   ]
  }
 ],
 "metadata": {
  "colab": {
   "name": "LAB 2 ACC 2021-1.ipynb",
   "provenance": []
  },
  "kernelspec": {
   "display_name": "Python 3",
   "language": "python",
   "name": "python3"
  },
  "language_info": {
   "codemirror_mode": {
    "name": "ipython",
    "version": 3
   },
   "file_extension": ".py",
   "mimetype": "text/x-python",
   "name": "python",
   "nbconvert_exporter": "python",
   "pygments_lexer": "ipython3",
   "version": "3.8.5"
  }
 },
 "nbformat": 4,
 "nbformat_minor": 1
}
