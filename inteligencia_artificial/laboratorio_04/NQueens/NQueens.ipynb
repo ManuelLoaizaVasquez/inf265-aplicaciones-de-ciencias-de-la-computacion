{
 "cells": [
  {
   "cell_type": "markdown",
   "metadata": {},
   "source": [
    "# APLICACIONES EN CIENCIAS DE COMPUTACION"
   ]
  },
  {
   "cell_type": "markdown",
   "metadata": {},
   "source": [
    "## Laboratorio 4:  Búsqueda Local (Hill climbing, Simulated annealing y Beam search) \n",
    "Indicaciones previas:\n",
    "- Las respuestas deben tener un buen fundamento teórico, se realizarán descuentos en el puntaje a respuestas que no contesten a lo solicitado\n",
    "- Cualquier indicio de plagio resultará en la anulación de la prueba.\n",
    "\n",
    "La tarea de este laboratorio consiste en comparar métodos de busqueda local para la resolución de la N-Reinas.<br>Al final de este notebook se encuentran las preguntas que serán evaluadas en este laboratorio. \n",
    "\n",
    "Ejemplo de representacion de estado (tablero nqueens):\n",
    "<img src=\"state_nqueens.png\">\n"
   ]
  },
  {
   "cell_type": "code",
   "execution_count": 2,
   "metadata": {},
   "outputs": [],
   "source": [
    "import numpy as np\n",
    "from collections import defaultdict\n",
    "from collections import Counter\n",
    "from random import randrange\n",
    "import random\n",
    "from time import time\n",
    "from random import shuffle, random, sample, randint, choice, uniform\n",
    "from copy import deepcopy\n",
    "import math\n",
    "from math import exp\n",
    "import sys"
   ]
  },
  {
   "cell_type": "markdown",
   "metadata": {},
   "source": [
    "### Clase <b>SearchProblem</b>\n",
    "\n",
    "Esta es una clase abstracta para definir problemas de busqueda. Se debe hacer subclases que implementen los metodos de las acciones, resultados, test de objetivo y el costo de camino. Entonces se puede instanciar las subclases y resolverlos con varias funciones de busqueda."
   ]
  },
  {
   "cell_type": "code",
   "execution_count": 3,
   "metadata": {},
   "outputs": [],
   "source": [
    "class SearchProblem:\n",
    "    def __init__(self, initial=None):\n",
    "        \"\"\"Initialize a search problem with a initial state\"\"\"\n",
    "        pass\n",
    "\n",
    "    def initial(self):\n",
    "        \"\"\"Return default initial state of the search problem\"\"\"\n",
    "        pass\n",
    "\n",
    "    def value(self, state):\n",
    "        \"\"\"Return the value of the state. This is the objective function to be optimized\"\"\"\n",
    "        pass\n",
    "\n",
    "    def neighborhood(self, state):\n",
    "        \"\"\"Return the neighboring states of the given state\"\"\"\n",
    "        pass\n",
    "\n",
    "    def random_neighbor(self, state):\n",
    "        \"\"\"Return a random neighbor of the neighborhood of the state (used in simulated annealing)\"\"\"\n",
    "        return choice(self.neighborhood(state))\n",
    "\n"
   ]
  },
  {
   "cell_type": "markdown",
   "metadata": {},
   "source": [
    "### Clase <b>NQueensSearch</b>\n",
    "\n",
    "La clase NQueenSearch implementa concretamente el problema del  tablero de las NQueens. Esta se representa mediante una tupla, en la cual se indica la posición de cada reina Q. Además, incluye el metodo value() para conocer la cantidad de pares de reinas atacadas mutuamente."
   ]
  },
  {
   "cell_type": "code",
   "execution_count": 5,
   "metadata": {},
   "outputs": [],
   "source": [
    "class NQueensSearch(SearchProblem):\n",
    "    '''\n",
    "    State: (QueenCoords)\n",
    "    '''\n",
    "    def __init__(self, filename,N=8):\n",
    "        self.N = N\n",
    "        self.file = filename\n",
    "\n",
    "    def initial(self):\n",
    "        # Lee el archivo para retornar una tupla con las posiciones de cada Reinas del tablero\n",
    "        fd=open(self.file,\"r+\")\n",
    "        puzzle=eval(fd.readline())\n",
    "        board=[]\n",
    "        for i in puzzle:\n",
    "            board.append(i)\n",
    "        return tuple(board)\n",
    "    \n",
    "    def value(self, state):\n",
    "        \"\"\"\n",
    "        Retorna número de pares de Queens que se atacan mutuamente. Se recorre State: (QueenCoords) \n",
    "        para agregar el ataque de cada reina, tanto en sus diagonales como en su misma columna. Luego, \n",
    "        se recorre cada collection creado para incrementar el número de pares de reinas atacadas (clashes)\n",
    "        \"\"\"\n",
    "        columnQ, diag1Q, diag2Q = [Counter() for i in range(3)]\n",
    "        # En este caso state = (6,0,6,5,4,6,5,0) \n",
    "        for row, col in enumerate(state):\n",
    "            columnQ[col] += 1       \n",
    "            diag1Q[row - col] += 1  \n",
    "            diag2Q[row + col] += 1\n",
    "        clashes = 0\n",
    "        for cnt in [columnQ, diag1Q, diag2Q]:\n",
    "            for key in cnt:\n",
    "                clashes += cnt[key] * (cnt[key] - 1) // 2\n",
    "        return clashes\n",
    "\n",
    "    def neighborhood(self, state):\n",
    "        # Crea nuevos tableros vecinos, diferentes al original\n",
    "        neighborhood = []\n",
    "        for row in range(self.N):  # por cada fila\n",
    "            for col in range(self.N):  # por cada columna\n",
    "                # genera tablero vecino moviendo reyna de fila row a la columna col (siempre que no exita reyna en (row,col))    \n",
    "                if col != state[row]: \n",
    "                    neighbor = list(state)\n",
    "                    neighbor[row] = col\n",
    "                    neighborhood.append(tuple(neighbor))\n",
    "        return neighborhood\n",
    "\n",
    "    def random_neighbor(self, state):\n",
    "        # Genera un tablero vecino de manera aleatoria, a partir del tablero original pasado (state)\n",
    "        row = randrange(self.N)  # escoge una fila aleatoriamente\n",
    "        col = choice( [i for i in range(self.N) if i!=state[row]] ) # escoge una columna aleatoria diferente de donde esta la reyna en esa fila\n",
    "        neighbor = list(state)\n",
    "        neighbor[row] = col\n",
    "        return tuple(neighbor)"
   ]
  },
  {
   "cell_type": "markdown",
   "metadata": {},
   "source": [
    "### Funciones utilitarias para manejar el tablero NQueens</b>\n",
    "Estas son funciones utilitarias para mostrar el tablero "
   ]
  },
  {
   "cell_type": "code",
   "execution_count": 7,
   "metadata": {},
   "outputs": [],
   "source": [
    "n = 8\n",
    "def make_board(result):\n",
    "    board = []\n",
    "    espacio =['_']*(n + 1)\n",
    "    espacio[0]=' '\n",
    "    board.append(str().join(espacio))\n",
    "    for col in result:\n",
    "        line = ['*'] * (n + 2)\n",
    "        line[0]='|'\n",
    "        line[col + 1] = 'Q'\n",
    "        line[n + 1]='|'\n",
    "        board.append(str().join(line))\n",
    "    board.append(str().join(espacio))\n",
    "    return board\n",
    "\n",
    "def print_board(board):\n",
    "    charlist = list(map(list, board))\n",
    "    for line in charlist:\n",
    "        print(\" \".join(line))\n",
    "def show_board(current):\n",
    "    # Muestra la distribución de Queens(Q) en el tablero.\n",
    "    board = make_board(current)\n",
    "    printBoard(board)"
   ]
  },
  {
   "cell_type": "markdown",
   "metadata": {},
   "source": [
    "## <b>Algoritmos de Búsqueda Local</b> "
   ]
  },
  {
   "cell_type": "markdown",
   "metadata": {},
   "source": [
    "### <b>Hill-climbing </b> \n",
    "\n",
    "Implementación del algoritmo para la resolución de NQueenSearchs"
   ]
  },
  {
   "cell_type": "code",
   "execution_count": 9,
   "metadata": {},
   "outputs": [],
   "source": [
    "def hill_climbing(problem, max_iter=1000):\n",
    "    count = 0  # contador de iteraciones desde que se encuentra el 1er tablero solucion \n",
    "    current = problem.initial()  # lee el archivo del tablero inicial\n",
    "    current_score = problem.value(current)  # evalua tablero inicial\n",
    "    \n",
    "    # Muestra tablero inicial\n",
    "    print('Hill Climbing intentará resolver el siguiente tablero NQueens:')\n",
    "    show_board(current)  \n",
    "    print()\n",
    "        \n",
    "    start_time = time()  # inicia el contador de tiempo\n",
    "    t = 0\n",
    "    while (t < max_iter):\n",
    "        if (t % 100 == 0): \n",
    "            print('Iteration {},\\tCurrent score  = {}'.format(t, problem.value(current)))\n",
    "            \n",
    "        neighborhood = problem.neighborhood(current)\n",
    "        if not neighborhood:\n",
    "            break\n",
    "            \n",
    "        neighborhood_scores = []\n",
    "        for i in range(len(neighborhood)): # evalua cada tablero vecino\n",
    "            neighborhood_scores.append(problem.value(neighborhood[i]) )\n",
    "        index_best_neighbor = np.argmin(neighborhood_scores)  # obtiene el indice del mejor tablero\n",
    "        \n",
    "       \n",
    "        if neighborhood_scores[index_best_neighbor] <= current_score:  # si el mejor vecino es mejor que el tablero current\n",
    "            current_score = neighborhood_scores[index_best_neighbor]\n",
    "            current = deepcopy(neighborhood[index_best_neighbor])\n",
    "        \n",
    "        if problem.value(current) == 0:  # si es tablero solucion\n",
    "            count += 1  # aumenta contador de tableros solucion encontrados\n",
    "        \n",
    "        t += 1\n",
    "    end_time = time()  # stop el contador de tiempo\n",
    "    print('\\nN° de tableros solución: %2d en %d iteraciones \\nRunning time: %f'%(count,maxIter , end_time-start_time))\n",
    "    print('Mejor tablero solución hallado con score {}'.format(problem.value(current)))\n",
    "    show_board(current)  # muestra el tablero final\n"
   ]
  },
  {
   "cell_type": "markdown",
   "metadata": {},
   "source": [
    "### <b>Simulating Annealing</b> \n",
    "Implementación del algoritmo para la resolución de NQueenSearchs"
   ]
  },
  {
   "cell_type": "code",
   "execution_count": 10,
   "metadata": {},
   "outputs": [],
   "source": [
    "def simulated_annealing(problem, t0, dr, max_iter):\n",
    "    \"\"\"\n",
    "    Simulating annealing solver.\n",
    "    t0: Initial temperature\n",
    "    dr: The decay rate of the schedule function: Ti = T0*(DR)^i (Ti is the temperature at iteration i). \n",
    "    For efficiecy the schedule function is implemented as: T_i = T_{i - 1} * DR.\n",
    "    max_iter: The maximum number of iterations\n",
    "    \"\"\"\n",
    "    count = 0  # contador de iteraciones desde que se encuentra el 1er tablero solucion \n",
    "    current = problem.initial()  # lee el archivo del tablero inicial\n",
    "    current_score = problem.value(current)    # evalua tablero inicial\n",
    "   \n",
    "    # muestra tablero inicial    \n",
    "    print('Simulated Annealing intentará resolver el siguiente tablero NQueens: ')\n",
    "    show_board(current)  # muestra tablero inicial\n",
    "    print()    \n",
    "    \n",
    "    start_time = time()  # inicia el contador de tiempo\n",
    "    best_score = current_score\n",
    "    T = t0  # inicia temperatura en temperatura inicial\n",
    "    t = 0\n",
    "    while (t < max_iter):\n",
    "        if (t % 10000 == 0): \n",
    "            print('Iteration {},\\tTemperaure = {},\\tBest score = {},\\tCurrent score = {}'.format(t, T,best_score, current_score))\n",
    "\n",
    "        neighbor = problem.random_neighbor(current)\n",
    "        neighbor_score = problem.value(neighbor)  # evalua tablero vecino\n",
    "        delta = float(neighbor_score - current_score)  # diferencia entre el score del tablero vecino con respecto al actual\n",
    "            \n",
    "        if (delta < 0):   # si el tablero vecino generado es mejor que el actual, se acepta\n",
    "            current = neighbor\n",
    "            current_score = neighbor_score \n",
    "        elif (random() < exp(abs(delta) / T)):  # si el tablero generado es peor, se acepta con probability  exp((delta/T))\n",
    "            current = neighbor\n",
    "            current_score = neighbor_score \n",
    "            \n",
    "        if (current_score  < best_score):  # si el tablero actual es mejor que el mejor tablero encontado hasta ahora\n",
    "            best_board = deepcopy(current)\n",
    "            best_score = current_score\n",
    "                \n",
    "        if current_score == 0:  # si es tablero solucion   \n",
    "            best_board = current\n",
    "            best_score = current_score\n",
    "            if count == 0: \n",
    "                best_iteration = t   # iteracion donde se encontro el 1er tablero solucion\n",
    "            count += 1  # aumenta contador de tableros solucion encontrados\n",
    "            \n",
    "        T = T * dr   # aplica decaimiento de temperatura\n",
    "        t += 1\n",
    "    end_time = time()  # stop del contador de tiempo\n",
    "    \n",
    "    if best_score == 0:\n",
    "        print (\"\\nSA encontro tablero solucion en iteracion = {} de {} iteraciones\".format(best_iteration, t))\n",
    "    else:\n",
    "        print(\"\\nSA no encontró tablero solucion!. Este es el mejor tablero encontrado con score={}:\".format(best_score))\n",
    "    \n",
    "    print(\"N° de tableros solución: %2d en %d iteraciones \\nRunning time: %f\"%(count, t , end_time - start_time))\n",
    "   \n",
    "    show_board(best_board)  # muestra el mejor tablero"
   ]
  },
  {
   "cell_type": "markdown",
   "metadata": {},
   "source": [
    "## <b> Experimentación con los algoritmos de Búsqueda</b> "
   ]
  },
  {
   "cell_type": "code",
   "execution_count": 14,
   "metadata": {},
   "outputs": [
    {
     "name": "stdout",
     "output_type": "stream",
     "text": [
      "8-Queens Original\n",
      "  _ _ _ _ _ _ _ _\n",
      "| * * * * * * Q * |\n",
      "| Q * * * * * * * |\n",
      "| * * * * * * Q * |\n",
      "| * * * * * Q * * |\n",
      "| * * * * Q * * * |\n",
      "| * * * * * * Q * |\n",
      "| * * * * * Q * * |\n",
      "| Q * * * * * * * |\n",
      "  _ _ _ _ _ _ _ _\n"
     ]
    }
   ],
   "source": [
    "# ESTA CELDA NO NECESITA SER MODIFICADA\n",
    "\"\"\" Carga un tablero de archivo en disco e instancia el problema de busqueda  \"\"\"\n",
    "problem = NQueensSearch(\"queens.txt\")\n",
    "print(\"8-Queens Original\")\n",
    "ShowBoard(problem.initial())"
   ]
  },
  {
   "cell_type": "markdown",
   "metadata": {},
   "source": [
    "### Hill Climbing\n",
    "\n",
    "Llama a Hill Climbing para resolver el tablero 'queens.txt' con numero de iteraciones maxIter=1000"
   ]
  },
  {
   "cell_type": "code",
   "execution_count": 23,
   "metadata": {},
   "outputs": [
    {
     "name": "stdout",
     "output_type": "stream",
     "text": [
      "Hill Climbing intentará resolver el siguiente tablero NQueens:\n",
      "  _ _ _ _ _ _ _ _\n",
      "| * * * * * * Q * |\n",
      "| Q * * * * * * * |\n",
      "| * * * * * * Q * |\n",
      "| * * * * * Q * * |\n",
      "| * * * * Q * * * |\n",
      "| * * * * * * Q * |\n",
      "| * * * * * Q * * |\n",
      "| Q * * * * * * * |\n",
      "  _ _ _ _ _ _ _ _\n",
      "\n",
      "Iteration 0,\tCurrent score  = 10\n",
      "Iteration 100,\tCurrent score  = 1\n",
      "Iteration 200,\tCurrent score  = 1\n",
      "Iteration 300,\tCurrent score  = 1\n",
      "Iteration 400,\tCurrent score  = 1\n",
      "Iteration 500,\tCurrent score  = 1\n",
      "Iteration 600,\tCurrent score  = 1\n",
      "Iteration 700,\tCurrent score  = 1\n",
      "Iteration 800,\tCurrent score  = 1\n",
      "Iteration 900,\tCurrent score  = 1\n",
      "\n",
      "N° de tableros solución:  0 en 1000 iteraciones \n",
      "Running time: 2.438860\n",
      "Mejor tablero solución hallado con score 1\n",
      "  _ _ _ _ _ _ _ _\n",
      "| * * Q * * * * * |\n",
      "| * * * * * Q * * |\n",
      "| * * * * * * * Q |\n",
      "| * Q * * * * * * |\n",
      "| * * * * Q * * * |\n",
      "| * * * * * * Q * |\n",
      "| * * * Q * * * * |\n",
      "| Q * * * * * * * |\n",
      "  _ _ _ _ _ _ _ _\n"
     ]
    }
   ],
   "source": [
    "problem = NQueensSearch(\"queens.txt\")\n",
    "hill_climbing(problem, 1000)"
   ]
  },
  {
   "cell_type": "markdown",
   "metadata": {},
   "source": [
    "### Simulated Annealing"
   ]
  },
  {
   "cell_type": "code",
   "execution_count": 29,
   "metadata": {},
   "outputs": [
    {
     "name": "stdout",
     "output_type": "stream",
     "text": [
      "Simulated Annealing intentará resolver el siguiente tablero NQueens: \n",
      "  _ _ _ _ _ _ _ _\n",
      "| * * * * * * Q * |\n",
      "| Q * * * * * * * |\n",
      "| * * * * * * Q * |\n",
      "| * * * * * Q * * |\n",
      "| * * * * Q * * * |\n",
      "| * * * * * * Q * |\n",
      "| * * * * * Q * * |\n",
      "| Q * * * * * * * |\n",
      "  _ _ _ _ _ _ _ _\n",
      "\n",
      "Iteration 0,\tTemperaure = 0.5,\tBest score = 10,\tCurrent score = 10\n",
      "Iteration 10000,\tTemperaure = 0.45241848280737684,\tBest score = 1,\tCurrent score = 6\n",
      "Iteration 20000,\tTemperaure = 0.4093649671714617,\tBest score = 1,\tCurrent score = 9\n",
      "Iteration 30000,\tTemperaure = 0.3704085547244124,\tBest score = 1,\tCurrent score = 7\n",
      "Iteration 40000,\tTemperaure = 0.33515935269458563,\tBest score = 1,\tCurrent score = 7\n",
      "Iteration 50000,\tTemperaure = 0.3032645716895745,\tBest score = 1,\tCurrent score = 10\n",
      "Iteration 60000,\tTemperaure = 0.2744049948260552,\tBest score = 1,\tCurrent score = 8\n",
      "Iteration 70000,\tTemperaure = 0.24829178286794154,\tBest score = 1,\tCurrent score = 10\n",
      "Iteration 80000,\tTemperaure = 0.22466358339730758,\tBest score = 0,\tCurrent score = 7\n",
      "Iteration 90000,\tTemperaure = 0.20328391508535776,\tBest score = 0,\tCurrent score = 7\n",
      "\n",
      "SA encontro tablero solucion en iteracion = 77556 de 100000 iteraciones\n",
      "N° de tableros solución:  1 en 100000 iteraciones \n",
      "Running time: 4.592000\n",
      "  _ _ _ _ _ _ _ _\n",
      "| * * * * * Q * * |\n",
      "| * * Q * * * * * |\n",
      "| * * * * * * Q * |\n",
      "| * * * Q * * * * |\n",
      "| Q * * * * * * * |\n",
      "| * * * * * * * Q |\n",
      "| * Q * * * * * * |\n",
      "| * * * * Q * * * |\n",
      "  _ _ _ _ _ _ _ _\n"
     ]
    }
   ],
   "source": [
    "problem = NQueensSearch(\"queens.txt\")\n",
    "simulated_annealing(problem, 0.5, .99999, 100000)"
   ]
  },
  {
   "cell_type": "markdown",
   "metadata": {},
   "source": [
    "# Preguntas:\n",
    "**1.** Se presenta el tablero: 'queens.txt' de las 8-Queens con función de costo: \n",
    "    \n",
    "        h = número de pares de reinas que se atacan mutuamente    \n",
    "\n",
    "Además, se implementan los algoritmos Simulating Annealing (SA) y Hill Climbing (HC) con los siguientes parámetros (ellos garantizan una misma cantidad de tableros evaluados como máximo):\n",
    "\n",
    "        HC: maxIter=1000\n",
    "        SA: T0=0.5, DR=.99999, maxIter=100000 \n",
    "        \n",
    "En el presente laboratorio, se proponen los algoritmos de búsqueda local, los cuales **maximizan** la función. Se solicita modificar el código en ambos algoritmos, con la finalidad de **minimizar** la función de costo (h) **(4 pts)**"
   ]
  },
  {
   "cell_type": "markdown",
   "metadata": {},
   "source": [
    "Completado."
   ]
  },
  {
   "cell_type": "markdown",
   "metadata": {},
   "source": [
    "**2.** Después de haber completado el código, ¿el algoritmo Hill Climbing presenta soluciones óptimas? ¿Cuáles son las limitaciones que puede presentar este algoritmo de búsqueda local, según los resultados? **(4 pts)**"
   ]
  },
  {
   "cell_type": "markdown",
   "metadata": {},
   "source": [
    "El algoritmo **Hill Climbing** no presentó soluciones óptimas en nuestro caso particular y en un caso general tampoco tendría por qué hacerlo ya que realiza una estrategia greedy de moverse en dirección del mejor estado vecino y puede que nos quedemos estancados en un mínimo local.\n",
    "A partir de los resultados obtenidos, podemos observar que en la iteración 100 ya habíamos llegado a un tablero con score 1, lo cual quiere decir que hasta las 1000 iteraciones hemos o bien hemos encontrado peores tableros u otros con el mismo valor. Las limitaciones de este algoritmo es que si nos hemos estancado en un mínimo local, es decir, en este caso, si nuestro tablero o algunos vecinos tienen score 1 y sus vecinos mayores a este, para poder llegar a una solución deberíamos salir de esta depresión en la que nos encontramos, sin embargo, como fue implementado el algoritmo no podemos realizarlo."
   ]
  },
  {
   "cell_type": "markdown",
   "metadata": {},
   "source": [
    "**3.** En cuanto a las soluciones encontradas por Simulated Annealing, ¿este algoritmo presenta soluciones óptimas? ¿Cómo se pueden interpretar y relacionar los resultados con su teoría y propiedades? Por otro lado, ¿cómo controlamos el grado de exploración de un algoritmo Simulated Annealing? **(4 pts)**"
   ]
  },
  {
   "cell_type": "markdown",
   "metadata": {},
   "source": [
    "En mis resultados pude conseguir una solución óptima; no obstante, como hay un factor de aleatoriedad a la hora de aceptar errores, si corremos varias veces mi test es posible que encontremos algunos casos en donde nos quedamos en un mínimo local.\n",
    "Teóricamente, hay un teorema que nos dice que si nuestra temperatura decrece exponencialmente lento, entonces vamos a converger a un estado óptimo. Un problema es que una lenta convergencia no implica que en práctica pueda ser computable rápidamente pero al menos nos garantiza convergencia.\n",
    "En mis resultados podemos observar que en las 10 000 primera iteraciones, me encontraba en un estado con valor 6; y luego observamos que para las 20 000 iteraciones me encontraba en ese momento en uno con valor 9, mientras que en ambas mi mejor score hasta ese momento fue igual a 1. Esto quiere decir que nunca pudo llegar hasta ese momento a algún tablero con score 0 y no tuvo de otra que aceptar errores y por eso que en determinados momentos lo encontramos con valores de estados más grandes. Observamos que en las 80 000 iteraciones, logró encontrar alguna solución óptima con score 0 y como quiere seguir mejorando esto, sigue buscando otros estados y aparece en uno con valor 7. Lo bueno es que a pesar de seguir buscando más soluciones, a diferencia del algoritmo **Hill Climbing**, este proceso de aceptar errores nos permitió encontrar un mínimo global luego de casi 70 000 operaciones.\n",
    "Finalmente, el grado de exploración del algoritmo es controlado por la temperatura, conforme más altas temperaturas tenemos, más pasos localmente y aparentemente malos podremos aceptar, mientras que una temperatura más baja implica que aceptaremos menos soluciones no tan buenas localmente, adicionamos a esto la convergencia explicada en el párrafo anterior cuando decrementa de manera lenta."
   ]
  },
  {
   "cell_type": "markdown",
   "metadata": {},
   "source": [
    "**4.** Usando fundamento teórico, ¿cuáles son las principales ventajas de Simulated Annealing sobre Hill Climbing? Además, relacione su respuesta con los resultados obtenidos en las pruebas. **(4 pts)**"
   ]
  },
  {
   "cell_type": "markdown",
   "metadata": {},
   "source": [
    "Lo primero que podemos argumentar sin entrar tanto a detalla es que **Hill Climbing** sería un caso particular de **Simulated Annealing** cuando nuestra temperatura es siempre cero, puesto que aceptaremos todo lo que mejore y rechazaremos siempre todo lo que no mejore. De esta manera, si es que **Hill Climbing** nos ofrece alguna ventaja, entonces **Simulated Annealing** también y cualquier cosa adicional será a favor de esta última.\n",
    "Ahora podemos entrar a detalles, como respondo en las limitaciones mencionadas en la **pregunta 2** y una estrategia para mejorar **Hill Climbing** en la **pregunta 5**, el hecho de tener un factor aleatorio que nos permita aceptar movimientos no óptimos nos puede permitir escapar de quedarnos atrapados en un mínimo local."
   ]
  },
  {
   "cell_type": "markdown",
   "metadata": {},
   "source": [
    "**5.** ¿Qué estrategias de mejora se pueden aplicar en Hill Climbing, en el caso de NQueens? **(2 pts)**"
   ]
  },
  {
   "cell_type": "markdown",
   "metadata": {},
   "source": [
    "Una estrategia que podríamos utilizar en nuestro caso particular, cuando en nuestro conjunto de estados hemos estado obteniendo continuamente resultados que no nos permiten mejorar, podríamos haber realizado ciertos movimientos de manera aleatoria para ver qué pasaría si no sigo el greedy.\n",
    "En caso siga estancado alrededor de valores que no mejoran mi mejor valor, o bien hay demasiados casos por analizar, o lo más probable es que nuestro algoritmo converge a un mínimo local."
   ]
  },
  {
   "cell_type": "markdown",
   "metadata": {},
   "source": [
    "**6.** Justificar, teóricamente, la limitación del método de búsqueda Beam search **(2 pts)**"
   ]
  },
  {
   "cell_type": "markdown",
   "metadata": {},
   "source": [
    "La principal limitación del método **Beam Search** es, como mencionan los autores de la bibliografía y el profesor durante clase, la falta de diversidad. Esto quiere decir que puede que se encuentre el conjunto solución concentrado en alguna región y que todos nuestros algoritmos se comuniquen y decidan ir hacia dicha región, lo cual implicaría que estamos gastando más recursos computacionales para una situación quizás un poco más sencilla. Para ejemplificar mejor, sea $k$ el número de algoritmos **Local Search** que nuestro **Beam Search** correrá en paralelo, si es que tenemos la solución en alguno de los algoritmos que están corriendo y hubiese sido necesario solo analizar en ese, esto nos cuesta en espacio y tiempo $k$ veces más frente a lo que hubiese costado realizar una simple búsqueda local con algoritmos vistos en este laboratorio.\n",
    "Para lidiar con estas limitaciones, una manera estocástica de lidiar con esto es escoger los mejores $k$."
   ]
  }
 ],
 "metadata": {
  "kernelspec": {
   "display_name": "Python 3",
   "language": "python",
   "name": "python3"
  },
  "language_info": {
   "codemirror_mode": {
    "name": "ipython",
    "version": 3
   },
   "file_extension": ".py",
   "mimetype": "text/x-python",
   "name": "python",
   "nbconvert_exporter": "python",
   "pygments_lexer": "ipython3",
   "version": "3.8.5"
  }
 },
 "nbformat": 4,
 "nbformat_minor": 4
}
